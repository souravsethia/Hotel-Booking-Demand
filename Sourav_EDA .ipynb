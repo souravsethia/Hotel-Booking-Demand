{
 "cells": [
  {
   "cell_type": "markdown",
   "metadata": {},
   "source": [
    "# Hotel Booking Demand"
   ]
  },
  {
   "cell_type": "code",
   "execution_count": 3,
   "metadata": {},
   "outputs": [],
   "source": [
    "import numpy as np\n",
    "import pandas as pd\n",
    "import matplotlib.pyplot as plt\n",
    "%matplotlib inline\n",
    "import sklearn\n",
    "import seaborn as sns\n",
    "\n"
   ]
  },
  {
   "cell_type": "code",
   "execution_count": 4,
   "metadata": {},
   "outputs": [],
   "source": [
    "df = pd.read_csv(\"hotel_bookings.csv\")\n",
    "\n"
   ]
  },
  {
   "cell_type": "code",
   "execution_count": 5,
   "metadata": {},
   "outputs": [
    {
     "data": {
      "text/html": [
       "<div>\n",
       "<style scoped>\n",
       "    .dataframe tbody tr th:only-of-type {\n",
       "        vertical-align: middle;\n",
       "    }\n",
       "\n",
       "    .dataframe tbody tr th {\n",
       "        vertical-align: top;\n",
       "    }\n",
       "\n",
       "    .dataframe thead th {\n",
       "        text-align: right;\n",
       "    }\n",
       "</style>\n",
       "<table border=\"1\" class=\"dataframe\">\n",
       "  <thead>\n",
       "    <tr style=\"text-align: right;\">\n",
       "      <th></th>\n",
       "      <th>hotel</th>\n",
       "      <th>is_canceled</th>\n",
       "      <th>lead_time</th>\n",
       "      <th>arrival_date_year</th>\n",
       "      <th>arrival_date_month</th>\n",
       "      <th>arrival_date_week_number</th>\n",
       "      <th>arrival_date_day_of_month</th>\n",
       "      <th>stays_in_weekend_nights</th>\n",
       "      <th>stays_in_week_nights</th>\n",
       "      <th>adults</th>\n",
       "      <th>...</th>\n",
       "      <th>deposit_type</th>\n",
       "      <th>agent</th>\n",
       "      <th>company</th>\n",
       "      <th>days_in_waiting_list</th>\n",
       "      <th>customer_type</th>\n",
       "      <th>adr</th>\n",
       "      <th>required_car_parking_spaces</th>\n",
       "      <th>total_of_special_requests</th>\n",
       "      <th>reservation_status</th>\n",
       "      <th>reservation_status_date</th>\n",
       "    </tr>\n",
       "  </thead>\n",
       "  <tbody>\n",
       "    <tr>\n",
       "      <td>0</td>\n",
       "      <td>Resort Hotel</td>\n",
       "      <td>0</td>\n",
       "      <td>342</td>\n",
       "      <td>2015</td>\n",
       "      <td>July</td>\n",
       "      <td>27</td>\n",
       "      <td>1</td>\n",
       "      <td>0</td>\n",
       "      <td>0</td>\n",
       "      <td>2</td>\n",
       "      <td>...</td>\n",
       "      <td>No Deposit</td>\n",
       "      <td>NaN</td>\n",
       "      <td>NaN</td>\n",
       "      <td>0</td>\n",
       "      <td>Transient</td>\n",
       "      <td>0.0</td>\n",
       "      <td>0</td>\n",
       "      <td>0</td>\n",
       "      <td>Check-Out</td>\n",
       "      <td>2015-07-01</td>\n",
       "    </tr>\n",
       "    <tr>\n",
       "      <td>1</td>\n",
       "      <td>Resort Hotel</td>\n",
       "      <td>0</td>\n",
       "      <td>737</td>\n",
       "      <td>2015</td>\n",
       "      <td>July</td>\n",
       "      <td>27</td>\n",
       "      <td>1</td>\n",
       "      <td>0</td>\n",
       "      <td>0</td>\n",
       "      <td>2</td>\n",
       "      <td>...</td>\n",
       "      <td>No Deposit</td>\n",
       "      <td>NaN</td>\n",
       "      <td>NaN</td>\n",
       "      <td>0</td>\n",
       "      <td>Transient</td>\n",
       "      <td>0.0</td>\n",
       "      <td>0</td>\n",
       "      <td>0</td>\n",
       "      <td>Check-Out</td>\n",
       "      <td>2015-07-01</td>\n",
       "    </tr>\n",
       "    <tr>\n",
       "      <td>2</td>\n",
       "      <td>Resort Hotel</td>\n",
       "      <td>0</td>\n",
       "      <td>7</td>\n",
       "      <td>2015</td>\n",
       "      <td>July</td>\n",
       "      <td>27</td>\n",
       "      <td>1</td>\n",
       "      <td>0</td>\n",
       "      <td>1</td>\n",
       "      <td>1</td>\n",
       "      <td>...</td>\n",
       "      <td>No Deposit</td>\n",
       "      <td>NaN</td>\n",
       "      <td>NaN</td>\n",
       "      <td>0</td>\n",
       "      <td>Transient</td>\n",
       "      <td>75.0</td>\n",
       "      <td>0</td>\n",
       "      <td>0</td>\n",
       "      <td>Check-Out</td>\n",
       "      <td>2015-07-02</td>\n",
       "    </tr>\n",
       "    <tr>\n",
       "      <td>3</td>\n",
       "      <td>Resort Hotel</td>\n",
       "      <td>0</td>\n",
       "      <td>13</td>\n",
       "      <td>2015</td>\n",
       "      <td>July</td>\n",
       "      <td>27</td>\n",
       "      <td>1</td>\n",
       "      <td>0</td>\n",
       "      <td>1</td>\n",
       "      <td>1</td>\n",
       "      <td>...</td>\n",
       "      <td>No Deposit</td>\n",
       "      <td>304.0</td>\n",
       "      <td>NaN</td>\n",
       "      <td>0</td>\n",
       "      <td>Transient</td>\n",
       "      <td>75.0</td>\n",
       "      <td>0</td>\n",
       "      <td>0</td>\n",
       "      <td>Check-Out</td>\n",
       "      <td>2015-07-02</td>\n",
       "    </tr>\n",
       "    <tr>\n",
       "      <td>4</td>\n",
       "      <td>Resort Hotel</td>\n",
       "      <td>0</td>\n",
       "      <td>14</td>\n",
       "      <td>2015</td>\n",
       "      <td>July</td>\n",
       "      <td>27</td>\n",
       "      <td>1</td>\n",
       "      <td>0</td>\n",
       "      <td>2</td>\n",
       "      <td>2</td>\n",
       "      <td>...</td>\n",
       "      <td>No Deposit</td>\n",
       "      <td>240.0</td>\n",
       "      <td>NaN</td>\n",
       "      <td>0</td>\n",
       "      <td>Transient</td>\n",
       "      <td>98.0</td>\n",
       "      <td>0</td>\n",
       "      <td>1</td>\n",
       "      <td>Check-Out</td>\n",
       "      <td>2015-07-03</td>\n",
       "    </tr>\n",
       "  </tbody>\n",
       "</table>\n",
       "<p>5 rows × 32 columns</p>\n",
       "</div>"
      ],
      "text/plain": [
       "          hotel  is_canceled  lead_time  arrival_date_year arrival_date_month  \\\n",
       "0  Resort Hotel            0        342               2015               July   \n",
       "1  Resort Hotel            0        737               2015               July   \n",
       "2  Resort Hotel            0          7               2015               July   \n",
       "3  Resort Hotel            0         13               2015               July   \n",
       "4  Resort Hotel            0         14               2015               July   \n",
       "\n",
       "   arrival_date_week_number  arrival_date_day_of_month  \\\n",
       "0                        27                          1   \n",
       "1                        27                          1   \n",
       "2                        27                          1   \n",
       "3                        27                          1   \n",
       "4                        27                          1   \n",
       "\n",
       "   stays_in_weekend_nights  stays_in_week_nights  adults  ...  deposit_type  \\\n",
       "0                        0                     0       2  ...    No Deposit   \n",
       "1                        0                     0       2  ...    No Deposit   \n",
       "2                        0                     1       1  ...    No Deposit   \n",
       "3                        0                     1       1  ...    No Deposit   \n",
       "4                        0                     2       2  ...    No Deposit   \n",
       "\n",
       "   agent company days_in_waiting_list customer_type   adr  \\\n",
       "0    NaN     NaN                    0     Transient   0.0   \n",
       "1    NaN     NaN                    0     Transient   0.0   \n",
       "2    NaN     NaN                    0     Transient  75.0   \n",
       "3  304.0     NaN                    0     Transient  75.0   \n",
       "4  240.0     NaN                    0     Transient  98.0   \n",
       "\n",
       "   required_car_parking_spaces  total_of_special_requests  reservation_status  \\\n",
       "0                            0                          0           Check-Out   \n",
       "1                            0                          0           Check-Out   \n",
       "2                            0                          0           Check-Out   \n",
       "3                            0                          0           Check-Out   \n",
       "4                            0                          1           Check-Out   \n",
       "\n",
       "  reservation_status_date  \n",
       "0              2015-07-01  \n",
       "1              2015-07-01  \n",
       "2              2015-07-02  \n",
       "3              2015-07-02  \n",
       "4              2015-07-03  \n",
       "\n",
       "[5 rows x 32 columns]"
      ]
     },
     "execution_count": 5,
     "metadata": {},
     "output_type": "execute_result"
    }
   ],
   "source": [
    "df.head()\n",
    "\n"
   ]
  },
  {
   "cell_type": "code",
   "execution_count": 6,
   "metadata": {},
   "outputs": [
    {
     "name": "stdout",
     "output_type": "stream",
     "text": [
      "<class 'pandas.core.frame.DataFrame'>\n",
      "RangeIndex: 119390 entries, 0 to 119389\n",
      "Data columns (total 32 columns):\n",
      "hotel                             119390 non-null object\n",
      "is_canceled                       119390 non-null int64\n",
      "lead_time                         119390 non-null int64\n",
      "arrival_date_year                 119390 non-null int64\n",
      "arrival_date_month                119390 non-null object\n",
      "arrival_date_week_number          119390 non-null int64\n",
      "arrival_date_day_of_month         119390 non-null int64\n",
      "stays_in_weekend_nights           119390 non-null int64\n",
      "stays_in_week_nights              119390 non-null int64\n",
      "adults                            119390 non-null int64\n",
      "children                          119386 non-null float64\n",
      "babies                            119390 non-null int64\n",
      "meal                              119390 non-null object\n",
      "country                           118902 non-null object\n",
      "market_segment                    119390 non-null object\n",
      "distribution_channel              119390 non-null object\n",
      "is_repeated_guest                 119390 non-null int64\n",
      "previous_cancellations            119390 non-null int64\n",
      "previous_bookings_not_canceled    119390 non-null int64\n",
      "reserved_room_type                119390 non-null object\n",
      "assigned_room_type                119390 non-null object\n",
      "booking_changes                   119390 non-null int64\n",
      "deposit_type                      119390 non-null object\n",
      "agent                             103050 non-null float64\n",
      "company                           6797 non-null float64\n",
      "days_in_waiting_list              119390 non-null int64\n",
      "customer_type                     119390 non-null object\n",
      "adr                               119390 non-null float64\n",
      "required_car_parking_spaces       119390 non-null int64\n",
      "total_of_special_requests         119390 non-null int64\n",
      "reservation_status                119390 non-null object\n",
      "reservation_status_date           119390 non-null object\n",
      "dtypes: float64(4), int64(16), object(12)\n",
      "memory usage: 29.1+ MB\n"
     ]
    }
   ],
   "source": [
    "df.info()\n",
    "\n"
   ]
  },
  {
   "cell_type": "code",
   "execution_count": 7,
   "metadata": {},
   "outputs": [
    {
     "data": {
      "text/html": [
       "<div>\n",
       "<style scoped>\n",
       "    .dataframe tbody tr th:only-of-type {\n",
       "        vertical-align: middle;\n",
       "    }\n",
       "\n",
       "    .dataframe tbody tr th {\n",
       "        vertical-align: top;\n",
       "    }\n",
       "\n",
       "    .dataframe thead th {\n",
       "        text-align: right;\n",
       "    }\n",
       "</style>\n",
       "<table border=\"1\" class=\"dataframe\">\n",
       "  <thead>\n",
       "    <tr style=\"text-align: right;\">\n",
       "      <th></th>\n",
       "      <th>is_canceled</th>\n",
       "      <th>lead_time</th>\n",
       "      <th>arrival_date_year</th>\n",
       "      <th>arrival_date_week_number</th>\n",
       "      <th>arrival_date_day_of_month</th>\n",
       "      <th>stays_in_weekend_nights</th>\n",
       "      <th>stays_in_week_nights</th>\n",
       "      <th>adults</th>\n",
       "      <th>children</th>\n",
       "      <th>babies</th>\n",
       "      <th>is_repeated_guest</th>\n",
       "      <th>previous_cancellations</th>\n",
       "      <th>previous_bookings_not_canceled</th>\n",
       "      <th>booking_changes</th>\n",
       "      <th>agent</th>\n",
       "      <th>company</th>\n",
       "      <th>days_in_waiting_list</th>\n",
       "      <th>adr</th>\n",
       "      <th>required_car_parking_spaces</th>\n",
       "      <th>total_of_special_requests</th>\n",
       "    </tr>\n",
       "  </thead>\n",
       "  <tbody>\n",
       "    <tr>\n",
       "      <td>count</td>\n",
       "      <td>119390.000000</td>\n",
       "      <td>119390.000000</td>\n",
       "      <td>119390.000000</td>\n",
       "      <td>119390.000000</td>\n",
       "      <td>119390.000000</td>\n",
       "      <td>119390.000000</td>\n",
       "      <td>119390.000000</td>\n",
       "      <td>119390.000000</td>\n",
       "      <td>119386.000000</td>\n",
       "      <td>119390.000000</td>\n",
       "      <td>119390.000000</td>\n",
       "      <td>119390.000000</td>\n",
       "      <td>119390.000000</td>\n",
       "      <td>119390.000000</td>\n",
       "      <td>103050.000000</td>\n",
       "      <td>6797.000000</td>\n",
       "      <td>119390.000000</td>\n",
       "      <td>119390.000000</td>\n",
       "      <td>119390.000000</td>\n",
       "      <td>119390.000000</td>\n",
       "    </tr>\n",
       "    <tr>\n",
       "      <td>mean</td>\n",
       "      <td>0.370416</td>\n",
       "      <td>104.011416</td>\n",
       "      <td>2016.156554</td>\n",
       "      <td>27.165173</td>\n",
       "      <td>15.798241</td>\n",
       "      <td>0.927599</td>\n",
       "      <td>2.500302</td>\n",
       "      <td>1.856403</td>\n",
       "      <td>0.103890</td>\n",
       "      <td>0.007949</td>\n",
       "      <td>0.031912</td>\n",
       "      <td>0.087118</td>\n",
       "      <td>0.137097</td>\n",
       "      <td>0.221124</td>\n",
       "      <td>86.693382</td>\n",
       "      <td>189.266735</td>\n",
       "      <td>2.321149</td>\n",
       "      <td>101.831122</td>\n",
       "      <td>0.062518</td>\n",
       "      <td>0.571363</td>\n",
       "    </tr>\n",
       "    <tr>\n",
       "      <td>std</td>\n",
       "      <td>0.482918</td>\n",
       "      <td>106.863097</td>\n",
       "      <td>0.707476</td>\n",
       "      <td>13.605138</td>\n",
       "      <td>8.780829</td>\n",
       "      <td>0.998613</td>\n",
       "      <td>1.908286</td>\n",
       "      <td>0.579261</td>\n",
       "      <td>0.398561</td>\n",
       "      <td>0.097436</td>\n",
       "      <td>0.175767</td>\n",
       "      <td>0.844336</td>\n",
       "      <td>1.497437</td>\n",
       "      <td>0.652306</td>\n",
       "      <td>110.774548</td>\n",
       "      <td>131.655015</td>\n",
       "      <td>17.594721</td>\n",
       "      <td>50.535790</td>\n",
       "      <td>0.245291</td>\n",
       "      <td>0.792798</td>\n",
       "    </tr>\n",
       "    <tr>\n",
       "      <td>min</td>\n",
       "      <td>0.000000</td>\n",
       "      <td>0.000000</td>\n",
       "      <td>2015.000000</td>\n",
       "      <td>1.000000</td>\n",
       "      <td>1.000000</td>\n",
       "      <td>0.000000</td>\n",
       "      <td>0.000000</td>\n",
       "      <td>0.000000</td>\n",
       "      <td>0.000000</td>\n",
       "      <td>0.000000</td>\n",
       "      <td>0.000000</td>\n",
       "      <td>0.000000</td>\n",
       "      <td>0.000000</td>\n",
       "      <td>0.000000</td>\n",
       "      <td>1.000000</td>\n",
       "      <td>6.000000</td>\n",
       "      <td>0.000000</td>\n",
       "      <td>-6.380000</td>\n",
       "      <td>0.000000</td>\n",
       "      <td>0.000000</td>\n",
       "    </tr>\n",
       "    <tr>\n",
       "      <td>25%</td>\n",
       "      <td>0.000000</td>\n",
       "      <td>18.000000</td>\n",
       "      <td>2016.000000</td>\n",
       "      <td>16.000000</td>\n",
       "      <td>8.000000</td>\n",
       "      <td>0.000000</td>\n",
       "      <td>1.000000</td>\n",
       "      <td>2.000000</td>\n",
       "      <td>0.000000</td>\n",
       "      <td>0.000000</td>\n",
       "      <td>0.000000</td>\n",
       "      <td>0.000000</td>\n",
       "      <td>0.000000</td>\n",
       "      <td>0.000000</td>\n",
       "      <td>9.000000</td>\n",
       "      <td>62.000000</td>\n",
       "      <td>0.000000</td>\n",
       "      <td>69.290000</td>\n",
       "      <td>0.000000</td>\n",
       "      <td>0.000000</td>\n",
       "    </tr>\n",
       "    <tr>\n",
       "      <td>50%</td>\n",
       "      <td>0.000000</td>\n",
       "      <td>69.000000</td>\n",
       "      <td>2016.000000</td>\n",
       "      <td>28.000000</td>\n",
       "      <td>16.000000</td>\n",
       "      <td>1.000000</td>\n",
       "      <td>2.000000</td>\n",
       "      <td>2.000000</td>\n",
       "      <td>0.000000</td>\n",
       "      <td>0.000000</td>\n",
       "      <td>0.000000</td>\n",
       "      <td>0.000000</td>\n",
       "      <td>0.000000</td>\n",
       "      <td>0.000000</td>\n",
       "      <td>14.000000</td>\n",
       "      <td>179.000000</td>\n",
       "      <td>0.000000</td>\n",
       "      <td>94.575000</td>\n",
       "      <td>0.000000</td>\n",
       "      <td>0.000000</td>\n",
       "    </tr>\n",
       "    <tr>\n",
       "      <td>75%</td>\n",
       "      <td>1.000000</td>\n",
       "      <td>160.000000</td>\n",
       "      <td>2017.000000</td>\n",
       "      <td>38.000000</td>\n",
       "      <td>23.000000</td>\n",
       "      <td>2.000000</td>\n",
       "      <td>3.000000</td>\n",
       "      <td>2.000000</td>\n",
       "      <td>0.000000</td>\n",
       "      <td>0.000000</td>\n",
       "      <td>0.000000</td>\n",
       "      <td>0.000000</td>\n",
       "      <td>0.000000</td>\n",
       "      <td>0.000000</td>\n",
       "      <td>229.000000</td>\n",
       "      <td>270.000000</td>\n",
       "      <td>0.000000</td>\n",
       "      <td>126.000000</td>\n",
       "      <td>0.000000</td>\n",
       "      <td>1.000000</td>\n",
       "    </tr>\n",
       "    <tr>\n",
       "      <td>max</td>\n",
       "      <td>1.000000</td>\n",
       "      <td>737.000000</td>\n",
       "      <td>2017.000000</td>\n",
       "      <td>53.000000</td>\n",
       "      <td>31.000000</td>\n",
       "      <td>19.000000</td>\n",
       "      <td>50.000000</td>\n",
       "      <td>55.000000</td>\n",
       "      <td>10.000000</td>\n",
       "      <td>10.000000</td>\n",
       "      <td>1.000000</td>\n",
       "      <td>26.000000</td>\n",
       "      <td>72.000000</td>\n",
       "      <td>21.000000</td>\n",
       "      <td>535.000000</td>\n",
       "      <td>543.000000</td>\n",
       "      <td>391.000000</td>\n",
       "      <td>5400.000000</td>\n",
       "      <td>8.000000</td>\n",
       "      <td>5.000000</td>\n",
       "    </tr>\n",
       "  </tbody>\n",
       "</table>\n",
       "</div>"
      ],
      "text/plain": [
       "         is_canceled      lead_time  arrival_date_year  \\\n",
       "count  119390.000000  119390.000000      119390.000000   \n",
       "mean        0.370416     104.011416        2016.156554   \n",
       "std         0.482918     106.863097           0.707476   \n",
       "min         0.000000       0.000000        2015.000000   \n",
       "25%         0.000000      18.000000        2016.000000   \n",
       "50%         0.000000      69.000000        2016.000000   \n",
       "75%         1.000000     160.000000        2017.000000   \n",
       "max         1.000000     737.000000        2017.000000   \n",
       "\n",
       "       arrival_date_week_number  arrival_date_day_of_month  \\\n",
       "count             119390.000000              119390.000000   \n",
       "mean                  27.165173                  15.798241   \n",
       "std                   13.605138                   8.780829   \n",
       "min                    1.000000                   1.000000   \n",
       "25%                   16.000000                   8.000000   \n",
       "50%                   28.000000                  16.000000   \n",
       "75%                   38.000000                  23.000000   \n",
       "max                   53.000000                  31.000000   \n",
       "\n",
       "       stays_in_weekend_nights  stays_in_week_nights         adults  \\\n",
       "count            119390.000000         119390.000000  119390.000000   \n",
       "mean                  0.927599              2.500302       1.856403   \n",
       "std                   0.998613              1.908286       0.579261   \n",
       "min                   0.000000              0.000000       0.000000   \n",
       "25%                   0.000000              1.000000       2.000000   \n",
       "50%                   1.000000              2.000000       2.000000   \n",
       "75%                   2.000000              3.000000       2.000000   \n",
       "max                  19.000000             50.000000      55.000000   \n",
       "\n",
       "            children         babies  is_repeated_guest  \\\n",
       "count  119386.000000  119390.000000      119390.000000   \n",
       "mean        0.103890       0.007949           0.031912   \n",
       "std         0.398561       0.097436           0.175767   \n",
       "min         0.000000       0.000000           0.000000   \n",
       "25%         0.000000       0.000000           0.000000   \n",
       "50%         0.000000       0.000000           0.000000   \n",
       "75%         0.000000       0.000000           0.000000   \n",
       "max        10.000000      10.000000           1.000000   \n",
       "\n",
       "       previous_cancellations  previous_bookings_not_canceled  \\\n",
       "count           119390.000000                   119390.000000   \n",
       "mean                 0.087118                        0.137097   \n",
       "std                  0.844336                        1.497437   \n",
       "min                  0.000000                        0.000000   \n",
       "25%                  0.000000                        0.000000   \n",
       "50%                  0.000000                        0.000000   \n",
       "75%                  0.000000                        0.000000   \n",
       "max                 26.000000                       72.000000   \n",
       "\n",
       "       booking_changes          agent      company  days_in_waiting_list  \\\n",
       "count    119390.000000  103050.000000  6797.000000         119390.000000   \n",
       "mean          0.221124      86.693382   189.266735              2.321149   \n",
       "std           0.652306     110.774548   131.655015             17.594721   \n",
       "min           0.000000       1.000000     6.000000              0.000000   \n",
       "25%           0.000000       9.000000    62.000000              0.000000   \n",
       "50%           0.000000      14.000000   179.000000              0.000000   \n",
       "75%           0.000000     229.000000   270.000000              0.000000   \n",
       "max          21.000000     535.000000   543.000000            391.000000   \n",
       "\n",
       "                 adr  required_car_parking_spaces  total_of_special_requests  \n",
       "count  119390.000000                119390.000000              119390.000000  \n",
       "mean      101.831122                     0.062518                   0.571363  \n",
       "std        50.535790                     0.245291                   0.792798  \n",
       "min        -6.380000                     0.000000                   0.000000  \n",
       "25%        69.290000                     0.000000                   0.000000  \n",
       "50%        94.575000                     0.000000                   0.000000  \n",
       "75%       126.000000                     0.000000                   1.000000  \n",
       "max      5400.000000                     8.000000                   5.000000  "
      ]
     },
     "execution_count": 7,
     "metadata": {},
     "output_type": "execute_result"
    }
   ],
   "source": [
    "df.describe()\n",
    "\n"
   ]
  },
  {
   "cell_type": "markdown",
   "metadata": {},
   "source": [
    "# Missing Value"
   ]
  },
  {
   "cell_type": "code",
   "execution_count": 8,
   "metadata": {},
   "outputs": [
    {
     "name": "stdout",
     "output_type": "stream",
     "text": [
      "children         4\n",
      "country        488\n",
      "agent        16340\n",
      "company     112593\n",
      "dtype: int64\n"
     ]
    },
    {
     "data": {
      "text/plain": [
       "<matplotlib.axes._subplots.AxesSubplot at 0x7ffea63943d0>"
      ]
     },
     "execution_count": 8,
     "metadata": {},
     "output_type": "execute_result"
    },
    {
     "data": {
      "image/png": "[encoded data removed]",
      "text/plain": [
       "<Figure size 432x288 with 1 Axes>"
      ]
     },
     "metadata": {
      "needs_background": "light"
     },
     "output_type": "display_data"
    }
   ],
   "source": [
    "missing = df.isnull().sum()\n",
    "missing = missing[missing > 0]\n",
    "print(missing)\n",
    "missing.plot.bar()\n",
    "\n"
   ]
  },
  {
   "cell_type": "code",
   "execution_count": 9,
   "metadata": {},
   "outputs": [
    {
     "data": {
      "text/plain": [
       "City Hotel      79330\n",
       "Resort Hotel    40060\n",
       "Name: hotel, dtype: int64"
      ]
     },
     "execution_count": 9,
     "metadata": {},
     "output_type": "execute_result"
    }
   ],
   "source": [
    "df['hotel'].value_counts()\n",
    "\n"
   ]
  },
  {
   "cell_type": "code",
   "execution_count": 10,
   "metadata": {},
   "outputs": [
    {
     "data": {
      "text/plain": [
       "0    75166\n",
       "1    44224\n",
       "Name: is_canceled, dtype: int64"
      ]
     },
     "execution_count": 10,
     "metadata": {},
     "output_type": "execute_result"
    }
   ],
   "source": [
    "df['is_canceled'].value_counts()\n",
    "\n"
   ]
  },
  {
   "cell_type": "code",
   "execution_count": 11,
   "metadata": {},
   "outputs": [
    {
     "data": {
      "text/plain": [
       "<matplotlib.axes._subplots.AxesSubplot at 0x7ffea867c290>"
      ]
     },
     "execution_count": 11,
     "metadata": {},
     "output_type": "execute_result"
    },
    {
     "data": {
      "image/png": "[encoded data removed]",
      "text/plain": [
       "<Figure size 1296x1008 with 2 Axes>"
      ]
     },
     "metadata": {
      "needs_background": "light"
     },
     "output_type": "display_data"
    }
   ],
   "source": [
    "#Correlation of Variables with Each Other\n",
    "\n",
    "corr = df.corr()\n",
    "plt.subplots(figsize=(18,14))\n",
    "sns.heatmap(corr)\n",
    "\n"
   ]
  },
  {
   "cell_type": "code",
   "execution_count": 12,
   "metadata": {},
   "outputs": [
    {
     "data": {
      "image/png": "[encoded data removed]",
      "text/plain": [
       "<Figure size 1080x720 with 1 Axes>"
      ]
     },
     "metadata": {
      "needs_background": "light"
     },
     "output_type": "display_data"
    }
   ],
   "source": [
    "#Box Plot\n",
    "plt.figure(figsize = (15,10))\n",
    "sns.boxplot(x = \"assigned_room_type\", y = \"stays_in_week_nights\", data = df, hue = \"hotel\", palette = 'rainbow');\n",
    "\n"
   ]
  },
  {
   "cell_type": "code",
   "execution_count": 13,
   "metadata": {},
   "outputs": [],
   "source": [
    "# It is better to copy original dataset, it can be needed in some cases.\n",
    "data = df.copy()\n",
    "\n"
   ]
  },
  {
   "cell_type": "code",
   "execution_count": 14,
   "metadata": {},
   "outputs": [],
   "source": [
    "#Libraries\n",
    "\n",
    "import numpy as np\n",
    "import pandas as pd\n",
    "import seaborn as sns\n",
    "\n",
    "import matplotlib.pyplot as plt\n",
    "import statsmodels.formula.api as smf\n",
    "\n",
    "from sklearn.metrics import accuracy_score, roc_auc_score, roc_curve, confusion_matrix, auc\n",
    "from sklearn.model_selection import train_test_split, cross_val_score, GridSearchCV\n",
    "from sklearn.preprocessing import LabelEncoder, StandardScaler \n",
    "\n",
    "from sklearn.tree import DecisionTreeClassifier\n",
    "from sklearn.linear_model import LogisticRegression\n",
    "from sklearn.svm import SVC\n",
    "from sklearn.naive_bayes import GaussianNB\n",
    "from sklearn.ensemble import RandomForestClassifier\n",
    "from xgboost import XGBClassifier\n",
    "from sklearn.neural_network import MLPClassifier\n",
    "\n",
    "from warnings import filterwarnings\n",
    "\n",
    "filterwarnings('ignore')\n",
    "\n"
   ]
  },
  {
   "cell_type": "code",
   "execution_count": 15,
   "metadata": {},
   "outputs": [
    {
     "name": "stdout",
     "output_type": "stream",
     "text": [
      "Collecting package metadata (current_repodata.json): done\n",
      "Solving environment: done\n",
      "\n",
      "# All requested packages already installed.\n",
      "\n",
      "\n",
      "Note: you may need to restart the kernel to use updated packages.\n"
     ]
    }
   ],
   "source": [
    "conda install -c conda-forge xgboost"
   ]
  },
  {
   "cell_type": "markdown",
   "metadata": {},
   "source": [
    "# 1. EDA\n"
   ]
  },
  {
   "cell_type": "markdown",
   "metadata": {},
   "source": [
    "# Cancellations by repeated guests"
   ]
  },
  {
   "cell_type": "code",
   "execution_count": 16,
   "metadata": {},
   "outputs": [
    {
     "data": {
      "image/png": "[encoded data removed]",
      "text/plain": [
       "<Figure size 432x288 with 1 Axes>"
      ]
     },
     "metadata": {},
     "output_type": "display_data"
    }
   ],
   "source": [
    "sns.set(style = \"white\")\n",
    "plt.title(\"Canceled or not\", fontdict = {'fontsize': 30})\n",
    "ax = sns.countplot(x = \"is_canceled\", hue = 'is_canceled', data = data)\n",
    "\n"
   ]
  },
  {
   "cell_type": "markdown",
   "metadata": {},
   "source": [
    "### There is no surprise that repeated guests do not cancel their reservations. Of course there are some exceptions. Also most of the customers are not repeated guests."
   ]
  },
  {
   "cell_type": "markdown",
   "metadata": {},
   "source": [
    "## Boxplot Distribution of Nights Spent at Hotels by Market Segment and Hotel Type"
   ]
  },
  {
   "cell_type": "code",
   "execution_count": 17,
   "metadata": {},
   "outputs": [
    {
     "data": {
      "image/png": "[encoded data removed]",
      "text/plain": [
       "<Figure size 1080x720 with 1 Axes>"
      ]
     },
     "metadata": {},
     "output_type": "display_data"
    }
   ],
   "source": [
    "plt.figure(figsize = (15,10))\n",
    "sns.boxplot(x = \"market_segment\", y = \"stays_in_week_nights\", hue = \"hotel\",data = data, palette = 'Set1');\n",
    "\n"
   ]
  },
  {
   "cell_type": "code",
   "execution_count": 18,
   "metadata": {},
   "outputs": [
    {
     "data": {
      "text/plain": [
       "<matplotlib.axes._subplots.AxesSubplot at 0x7ffe941e27d0>"
      ]
     },
     "execution_count": 18,
     "metadata": {},
     "output_type": "execute_result"
    },
    {
     "data": {
      "image/png": "[encoded data removed]",
      "text/plain": [
       "<Figure size 1080x720 with 1 Axes>"
      ]
     },
     "metadata": {},
     "output_type": "display_data"
    }
   ],
   "source": [
    "plt.figure(figsize=(15,10))\n",
    "sns.boxplot(x = \"market_segment\", y = \"stays_in_weekend_nights\", data = data, hue = \"hotel\", palette = 'Set1')\n",
    "\n"
   ]
  },
  {
   "cell_type": "markdown",
   "metadata": {},
   "source": [
    "# Countplot Distribution of Market Segments"
   ]
  },
  {
   "cell_type": "code",
   "execution_count": 19,
   "metadata": {},
   "outputs": [
    {
     "data": {
      "image/png": "[encoded data removed]",
      "text/plain": [
       "<Figure size 1080x360 with 1 Axes>"
      ]
     },
     "metadata": {},
     "output_type": "display_data"
    }
   ],
   "source": [
    "plt.figure(figsize=(15,5))\n",
    "sns.set(style='white')\n",
    "plt.title(\"Countplot Distrubiton of Segment by Deposit Type\", fontdict = {'fontsize':20})\n",
    "ax = sns.countplot(x='market_segment',hue = 'deposit_type', data = data)\n",
    "\n"
   ]
  },
  {
   "cell_type": "code",
   "execution_count": 20,
   "metadata": {},
   "outputs": [
    {
     "data": {
      "image/png": "[encoded data removed]",
      "text/plain": [
       "<Figure size 936x720 with 1 Axes>"
      ]
     },
     "metadata": {},
     "output_type": "display_data"
    }
   ],
   "source": [
    "plt.figure(figsize = (13,10))\n",
    "sns.set(style = \"darkgrid\")\n",
    "plt.title(\"Countplot Distributon of Segments by Cancellation\", fontdict = {'fontsize':20})\n",
    "ax = sns.countplot(x = \"market_segment\", hue = 'is_canceled', data = data)\n",
    "\n"
   ]
  },
  {
   "cell_type": "markdown",
   "metadata": {},
   "source": [
    "# Density Curve of Lead Time by Cancelation"
   ]
  },
  {
   "cell_type": "code",
   "execution_count": 21,
   "metadata": {},
   "outputs": [
    {
     "data": {
      "image/png": "[encoded data removed]",
      "text/plain": [
       "<Figure size 494.675x432 with 1 Axes>"
      ]
     },
     "metadata": {},
     "output_type": "display_data"
    }
   ],
   "source": [
    "(sns.FacetGrid(data, hue = 'is_canceled',\n",
    "             height = 6,\n",
    "             xlim = (0,500))\n",
    "    .map(sns.kdeplot, 'lead_time', shade = True)\n",
    "    .add_legend());\n",
    "\n"
   ]
  },
  {
   "cell_type": "markdown",
   "metadata": {},
   "source": [
    "While lead time is more than roughly 60, people tend to cancel their reservations (cancellation rate is higher after this point). Also people want their holiday or work plans resulted in 100 days which equals to half of the data."
   ]
  },
  {
   "cell_type": "markdown",
   "metadata": {},
   "source": [
    "## Monthly Cancellations and Customers by Hotel Types"
   ]
  },
  {
   "cell_type": "code",
   "execution_count": 22,
   "metadata": {},
   "outputs": [
    {
     "data": {
      "image/png": "[encoded data removed]",
      "text/plain": [
       "<Figure size 1080x360 with 1 Axes>"
      ]
     },
     "metadata": {},
     "output_type": "display_data"
    }
   ],
   "source": [
    "plt.figure(figsize=(15,5))\n",
    "sns.set(style='white')\n",
    "plt.title(\"Total Customers - Monthly\", fontdict = {'fontsize': 20})\n",
    "ax = sns.countplot(x = \"arrival_date_month\", hue = 'hotel', data = data)\n",
    "\n"
   ]
  },
  {
   "cell_type": "code",
   "execution_count": 23,
   "metadata": {},
   "outputs": [
    {
     "data": {
      "image/png": "[encoded data removed]",
      "text/plain": [
       "<Figure size 1080x360 with 1 Axes>"
      ]
     },
     "metadata": {},
     "output_type": "display_data"
    }
   ],
   "source": [
    "plt.figure(figsize = (15,5))\n",
    "sns.barplot(x = 'arrival_date_month',y = 'is_canceled',  data = data);\n",
    "\n"
   ]
  },
  {
   "cell_type": "code",
   "execution_count": 24,
   "metadata": {},
   "outputs": [
    {
     "data": {
      "image/png": "[encoded data removed]",
      "text/plain": [
       "<Figure size 1440x720 with 1 Axes>"
      ]
     },
     "metadata": {},
     "output_type": "display_data"
    }
   ],
   "source": [
    "plt.figure(figsize = (20,10))\n",
    "sns.barplot(x = 'arrival_date_month', y = 'is_canceled', hue = 'hotel', data = data);\n",
    "\n"
   ]
  },
  {
   "cell_type": "markdown",
   "metadata": {},
   "source": [
    " Looking at the first graph, it can be seen that the city hotels have more customers in all months. Considering proportionally, resort hotels seem to be a little closer to city hotels in summer.\n",
    "\n",
    "An important interpretation can be made by examining three graphics together. Fewer customers come in the winter months, so when we look at the cancellation rates, it is quite normal that it appears less in the winter months. The point to be noted on these months is that the cancellation rates of city hotels are almost equal to other months even in winter. The fact that the total cancellation rates of the winter months are low is that the cancellation rates of the resort hotels are low in these months. In short, the possibility of cancellation of resort hotels in winter is very low. This information can be a very important factor when predicting 'is_canceled'."
   ]
  },
  {
   "cell_type": "markdown",
   "metadata": {},
   "source": [
    "# Preprocessing \n",
    "### (Missing Values, Feature Engineering and Standardization)"
   ]
  },
  {
   "cell_type": "code",
   "execution_count": 25,
   "metadata": {},
   "outputs": [
    {
     "name": "stdout",
     "output_type": "stream",
     "text": [
      "Number of Missing Values in each Columns :\n",
      "hotel                                  0\n",
      "is_canceled                            0\n",
      "lead_time                              0\n",
      "arrival_date_year                      0\n",
      "arrival_date_month                     0\n",
      "arrival_date_week_number               0\n",
      "arrival_date_day_of_month              0\n",
      "stays_in_weekend_nights                0\n",
      "stays_in_week_nights                   0\n",
      "adults                                 0\n",
      "children                               4\n",
      "babies                                 0\n",
      "meal                                   0\n",
      "country                              488\n",
      "market_segment                         0\n",
      "distribution_channel                   0\n",
      "is_repeated_guest                      0\n",
      "previous_cancellations                 0\n",
      "previous_bookings_not_canceled         0\n",
      "reserved_room_type                     0\n",
      "assigned_room_type                     0\n",
      "booking_changes                        0\n",
      "deposit_type                           0\n",
      "agent                              16340\n",
      "company                           112593\n",
      "days_in_waiting_list                   0\n",
      "customer_type                          0\n",
      "adr                                    0\n",
      "required_car_parking_spaces            0\n",
      "total_of_special_requests              0\n",
      "reservation_status                     0\n",
      "reservation_status_date                0\n",
      "dtype: int64\n"
     ]
    }
   ],
   "source": [
    "print ('Number of Missing Values in each Columns :', data.isnull().sum() , sep='\\n')\n",
    "\n"
   ]
  },
  {
   "cell_type": "code",
   "execution_count": 26,
   "metadata": {},
   "outputs": [
    {
     "name": "stdout",
     "output_type": "stream",
     "text": [
      "Missing Value Ratios:\n",
      " company:94.30689337465449 \n",
      " agent:13.686238378423655 \n",
      " country:0.40874445095904177\n"
     ]
    }
   ],
   "source": [
    "def perc_mv(x,y):\n",
    "    perc = y.isnull().sum() / len(x) * 100\n",
    "    return perc\n",
    "print('Missing Value Ratios:\\n company:{} \\n agent:{} \\n country:{}'.format(perc_mv(data,data['company']),\n",
    "                                                                            perc_mv(data,data['agent']),\n",
    "                                                                            perc_mv(data,data['country'])))"
   ]
  },
  {
   "cell_type": "code",
   "execution_count": 27,
   "metadata": {},
   "outputs": [
    {
     "data": {
      "text/plain": [
       "333"
      ]
     },
     "execution_count": 27,
     "metadata": {},
     "output_type": "execute_result"
    }
   ],
   "source": [
    "data['agent'].value_counts().count()\n",
    "\n"
   ]
  },
  {
   "cell_type": "markdown",
   "metadata": {},
   "source": [
    "# We can draw the below inference from the percentage of missing values:\n",
    "1. As we can see 94.3% of company column are missing values. Therefore we do not have enough values to fill the          rows of company column by predicting, filling by mean etc.It seems that the best option is dropping company column.\n",
    "2. 13.68% of agent column are missing values, there is no need to drop agent column. But also we should not drop the rows because 13.68% of data is really huge amount and those rows have the chance to have crucial information.\n",
    "3. There are 333 unique agent, since there are too many agents they may not be predictable. Also NA values can be the agents that are not listed in present 333 agents. We can't predict agents and since missing values are 13% of all data we can't drop them too.\n",
    "4. It will not be a problem if we drop the rows that have missing values in country column"
   ]
  },
  {
   "cell_type": "code",
   "execution_count": 28,
   "metadata": {},
   "outputs": [],
   "source": [
    "# We drop Company Column\n",
    "data = data.drop(['company'],axis=1)\n",
    "\n"
   ]
  },
  {
   "cell_type": "code",
   "execution_count": 29,
   "metadata": {},
   "outputs": [],
   "source": [
    "# We have also 4 missing values in children column. If there is no information about children, In my opinion those customers do not have any children.\n",
    "data['children'] = data['children'].fillna(0)"
   ]
  },
  {
   "cell_type": "markdown",
   "metadata": {},
   "source": [
    "# Handling Features\n",
    "We should check the features to create some more meaningful variables and reduce the number of features if it is possible."
   ]
  },
  {
   "cell_type": "code",
   "execution_count": 30,
   "metadata": {},
   "outputs": [
    {
     "data": {
      "text/plain": [
       "hotel                              object\n",
       "is_canceled                         int64\n",
       "lead_time                           int64\n",
       "arrival_date_year                   int64\n",
       "arrival_date_month                 object\n",
       "arrival_date_week_number            int64\n",
       "arrival_date_day_of_month           int64\n",
       "stays_in_weekend_nights             int64\n",
       "stays_in_week_nights                int64\n",
       "adults                              int64\n",
       "children                          float64\n",
       "babies                              int64\n",
       "meal                               object\n",
       "country                            object\n",
       "market_segment                     object\n",
       "distribution_channel               object\n",
       "is_repeated_guest                   int64\n",
       "previous_cancellations              int64\n",
       "previous_bookings_not_canceled      int64\n",
       "reserved_room_type                 object\n",
       "assigned_room_type                 object\n",
       "booking_changes                     int64\n",
       "deposit_type                       object\n",
       "agent                             float64\n",
       "days_in_waiting_list                int64\n",
       "customer_type                      object\n",
       "adr                               float64\n",
       "required_car_parking_spaces         int64\n",
       "total_of_special_requests           int64\n",
       "reservation_status                 object\n",
       "reservation_status_date            object\n",
       "dtype: object"
      ]
     },
     "execution_count": 30,
     "metadata": {},
     "output_type": "execute_result"
    }
   ],
   "source": [
    "data.dtypes\n",
    "\n"
   ]
  },
  {
   "cell_type": "code",
   "execution_count": 31,
   "metadata": {},
   "outputs": [
    {
     "data": {
      "text/plain": [
       "array(['Resort Hotel', 'City Hotel'], dtype=object)"
      ]
     },
     "execution_count": 31,
     "metadata": {},
     "output_type": "execute_result"
    }
   ],
   "source": [
    "data['hotel'].unique()\n"
   ]
  },
  {
   "cell_type": "code",
   "execution_count": 32,
   "metadata": {},
   "outputs": [],
   "source": [
    "data['hotel'] = data['hotel'].map({'Resort Hotel':0,'City Hotel':1})\n",
    "data['arrival_date_month'] = data['arrival_date_month'].map({'January':1, 'February': 2, 'March':3, 'April':4, 'May':5, 'June':6, 'July':7,\n",
    "                                                            'August':8, 'September':9, 'October':10, 'November':11, 'December':12})"
   ]
  },
  {
   "cell_type": "code",
   "execution_count": 33,
   "metadata": {},
   "outputs": [
    {
     "data": {
      "text/html": [
       "<div>\n",
       "<style scoped>\n",
       "    .dataframe tbody tr th:only-of-type {\n",
       "        vertical-align: middle;\n",
       "    }\n",
       "\n",
       "    .dataframe tbody tr th {\n",
       "        vertical-align: top;\n",
       "    }\n",
       "\n",
       "    .dataframe thead th {\n",
       "        text-align: right;\n",
       "    }\n",
       "</style>\n",
       "<table border=\"1\" class=\"dataframe\">\n",
       "  <thead>\n",
       "    <tr style=\"text-align: right;\">\n",
       "      <th></th>\n",
       "      <th>hotel</th>\n",
       "      <th>is_canceled</th>\n",
       "      <th>lead_time</th>\n",
       "      <th>arrival_date_year</th>\n",
       "      <th>arrival_date_month</th>\n",
       "      <th>arrival_date_week_number</th>\n",
       "      <th>arrival_date_day_of_month</th>\n",
       "      <th>stays_in_weekend_nights</th>\n",
       "      <th>stays_in_week_nights</th>\n",
       "      <th>adults</th>\n",
       "      <th>...</th>\n",
       "      <th>booking_changes</th>\n",
       "      <th>deposit_type</th>\n",
       "      <th>agent</th>\n",
       "      <th>days_in_waiting_list</th>\n",
       "      <th>customer_type</th>\n",
       "      <th>adr</th>\n",
       "      <th>required_car_parking_spaces</th>\n",
       "      <th>total_of_special_requests</th>\n",
       "      <th>reservation_status</th>\n",
       "      <th>reservation_status_date</th>\n",
       "    </tr>\n",
       "  </thead>\n",
       "  <tbody>\n",
       "    <tr>\n",
       "      <td>0</td>\n",
       "      <td>0</td>\n",
       "      <td>0</td>\n",
       "      <td>342</td>\n",
       "      <td>2015</td>\n",
       "      <td>7</td>\n",
       "      <td>27</td>\n",
       "      <td>1</td>\n",
       "      <td>0</td>\n",
       "      <td>0</td>\n",
       "      <td>2</td>\n",
       "      <td>...</td>\n",
       "      <td>3</td>\n",
       "      <td>No Deposit</td>\n",
       "      <td>NaN</td>\n",
       "      <td>0</td>\n",
       "      <td>Transient</td>\n",
       "      <td>0.0</td>\n",
       "      <td>0</td>\n",
       "      <td>0</td>\n",
       "      <td>Check-Out</td>\n",
       "      <td>2015-07-01</td>\n",
       "    </tr>\n",
       "    <tr>\n",
       "      <td>1</td>\n",
       "      <td>0</td>\n",
       "      <td>0</td>\n",
       "      <td>737</td>\n",
       "      <td>2015</td>\n",
       "      <td>7</td>\n",
       "      <td>27</td>\n",
       "      <td>1</td>\n",
       "      <td>0</td>\n",
       "      <td>0</td>\n",
       "      <td>2</td>\n",
       "      <td>...</td>\n",
       "      <td>4</td>\n",
       "      <td>No Deposit</td>\n",
       "      <td>NaN</td>\n",
       "      <td>0</td>\n",
       "      <td>Transient</td>\n",
       "      <td>0.0</td>\n",
       "      <td>0</td>\n",
       "      <td>0</td>\n",
       "      <td>Check-Out</td>\n",
       "      <td>2015-07-01</td>\n",
       "    </tr>\n",
       "    <tr>\n",
       "      <td>2</td>\n",
       "      <td>0</td>\n",
       "      <td>0</td>\n",
       "      <td>7</td>\n",
       "      <td>2015</td>\n",
       "      <td>7</td>\n",
       "      <td>27</td>\n",
       "      <td>1</td>\n",
       "      <td>0</td>\n",
       "      <td>1</td>\n",
       "      <td>1</td>\n",
       "      <td>...</td>\n",
       "      <td>0</td>\n",
       "      <td>No Deposit</td>\n",
       "      <td>NaN</td>\n",
       "      <td>0</td>\n",
       "      <td>Transient</td>\n",
       "      <td>75.0</td>\n",
       "      <td>0</td>\n",
       "      <td>0</td>\n",
       "      <td>Check-Out</td>\n",
       "      <td>2015-07-02</td>\n",
       "    </tr>\n",
       "    <tr>\n",
       "      <td>3</td>\n",
       "      <td>0</td>\n",
       "      <td>0</td>\n",
       "      <td>13</td>\n",
       "      <td>2015</td>\n",
       "      <td>7</td>\n",
       "      <td>27</td>\n",
       "      <td>1</td>\n",
       "      <td>0</td>\n",
       "      <td>1</td>\n",
       "      <td>1</td>\n",
       "      <td>...</td>\n",
       "      <td>0</td>\n",
       "      <td>No Deposit</td>\n",
       "      <td>304.0</td>\n",
       "      <td>0</td>\n",
       "      <td>Transient</td>\n",
       "      <td>75.0</td>\n",
       "      <td>0</td>\n",
       "      <td>0</td>\n",
       "      <td>Check-Out</td>\n",
       "      <td>2015-07-02</td>\n",
       "    </tr>\n",
       "    <tr>\n",
       "      <td>4</td>\n",
       "      <td>0</td>\n",
       "      <td>0</td>\n",
       "      <td>14</td>\n",
       "      <td>2015</td>\n",
       "      <td>7</td>\n",
       "      <td>27</td>\n",
       "      <td>1</td>\n",
       "      <td>0</td>\n",
       "      <td>2</td>\n",
       "      <td>2</td>\n",
       "      <td>...</td>\n",
       "      <td>0</td>\n",
       "      <td>No Deposit</td>\n",
       "      <td>240.0</td>\n",
       "      <td>0</td>\n",
       "      <td>Transient</td>\n",
       "      <td>98.0</td>\n",
       "      <td>0</td>\n",
       "      <td>1</td>\n",
       "      <td>Check-Out</td>\n",
       "      <td>2015-07-03</td>\n",
       "    </tr>\n",
       "  </tbody>\n",
       "</table>\n",
       "<p>5 rows × 31 columns</p>\n",
       "</div>"
      ],
      "text/plain": [
       "   hotel  is_canceled  lead_time  arrival_date_year  arrival_date_month  \\\n",
       "0      0            0        342               2015                   7   \n",
       "1      0            0        737               2015                   7   \n",
       "2      0            0          7               2015                   7   \n",
       "3      0            0         13               2015                   7   \n",
       "4      0            0         14               2015                   7   \n",
       "\n",
       "   arrival_date_week_number  arrival_date_day_of_month  \\\n",
       "0                        27                          1   \n",
       "1                        27                          1   \n",
       "2                        27                          1   \n",
       "3                        27                          1   \n",
       "4                        27                          1   \n",
       "\n",
       "   stays_in_weekend_nights  stays_in_week_nights  adults  ...  \\\n",
       "0                        0                     0       2  ...   \n",
       "1                        0                     0       2  ...   \n",
       "2                        0                     1       1  ...   \n",
       "3                        0                     1       1  ...   \n",
       "4                        0                     2       2  ...   \n",
       "\n",
       "   booking_changes  deposit_type  agent days_in_waiting_list customer_type  \\\n",
       "0                3    No Deposit    NaN                    0     Transient   \n",
       "1                4    No Deposit    NaN                    0     Transient   \n",
       "2                0    No Deposit    NaN                    0     Transient   \n",
       "3                0    No Deposit  304.0                    0     Transient   \n",
       "4                0    No Deposit  240.0                    0     Transient   \n",
       "\n",
       "    adr  required_car_parking_spaces  total_of_special_requests  \\\n",
       "0   0.0                            0                          0   \n",
       "1   0.0                            0                          0   \n",
       "2  75.0                            0                          0   \n",
       "3  75.0                            0                          0   \n",
       "4  98.0                            0                          1   \n",
       "\n",
       "   reservation_status reservation_status_date  \n",
       "0           Check-Out              2015-07-01  \n",
       "1           Check-Out              2015-07-01  \n",
       "2           Check-Out              2015-07-02  \n",
       "3           Check-Out              2015-07-02  \n",
       "4           Check-Out              2015-07-03  \n",
       "\n",
       "[5 rows x 31 columns]"
      ]
     },
     "execution_count": 33,
     "metadata": {},
     "output_type": "execute_result"
    }
   ],
   "source": [
    "data.head()\n",
    "\n"
   ]
  },
  {
   "cell_type": "code",
   "execution_count": 34,
   "metadata": {},
   "outputs": [
    {
     "data": {
      "text/html": [
       "<div>\n",
       "<style scoped>\n",
       "    .dataframe tbody tr th:only-of-type {\n",
       "        vertical-align: middle;\n",
       "    }\n",
       "\n",
       "    .dataframe tbody tr th {\n",
       "        vertical-align: top;\n",
       "    }\n",
       "\n",
       "    .dataframe thead th {\n",
       "        text-align: right;\n",
       "    }\n",
       "</style>\n",
       "<table border=\"1\" class=\"dataframe\">\n",
       "  <thead>\n",
       "    <tr style=\"text-align: right;\">\n",
       "      <th></th>\n",
       "      <th>adults</th>\n",
       "      <th>babies</th>\n",
       "      <th>children</th>\n",
       "    </tr>\n",
       "  </thead>\n",
       "  <tbody>\n",
       "    <tr>\n",
       "      <td>0</td>\n",
       "      <td>2</td>\n",
       "      <td>0</td>\n",
       "      <td>0.0</td>\n",
       "    </tr>\n",
       "    <tr>\n",
       "      <td>1</td>\n",
       "      <td>2</td>\n",
       "      <td>0</td>\n",
       "      <td>0.0</td>\n",
       "    </tr>\n",
       "    <tr>\n",
       "      <td>2</td>\n",
       "      <td>1</td>\n",
       "      <td>0</td>\n",
       "      <td>0.0</td>\n",
       "    </tr>\n",
       "    <tr>\n",
       "      <td>3</td>\n",
       "      <td>1</td>\n",
       "      <td>0</td>\n",
       "      <td>0.0</td>\n",
       "    </tr>\n",
       "    <tr>\n",
       "      <td>4</td>\n",
       "      <td>2</td>\n",
       "      <td>0</td>\n",
       "      <td>0.0</td>\n",
       "    </tr>\n",
       "    <tr>\n",
       "      <td>...</td>\n",
       "      <td>...</td>\n",
       "      <td>...</td>\n",
       "      <td>...</td>\n",
       "    </tr>\n",
       "    <tr>\n",
       "      <td>119385</td>\n",
       "      <td>2</td>\n",
       "      <td>0</td>\n",
       "      <td>0.0</td>\n",
       "    </tr>\n",
       "    <tr>\n",
       "      <td>119386</td>\n",
       "      <td>3</td>\n",
       "      <td>0</td>\n",
       "      <td>0.0</td>\n",
       "    </tr>\n",
       "    <tr>\n",
       "      <td>119387</td>\n",
       "      <td>2</td>\n",
       "      <td>0</td>\n",
       "      <td>0.0</td>\n",
       "    </tr>\n",
       "    <tr>\n",
       "      <td>119388</td>\n",
       "      <td>2</td>\n",
       "      <td>0</td>\n",
       "      <td>0.0</td>\n",
       "    </tr>\n",
       "    <tr>\n",
       "      <td>119389</td>\n",
       "      <td>2</td>\n",
       "      <td>0</td>\n",
       "      <td>0.0</td>\n",
       "    </tr>\n",
       "  </tbody>\n",
       "</table>\n",
       "<p>119390 rows × 3 columns</p>\n",
       "</div>"
      ],
      "text/plain": [
       "        adults  babies  children\n",
       "0            2       0       0.0\n",
       "1            2       0       0.0\n",
       "2            1       0       0.0\n",
       "3            1       0       0.0\n",
       "4            2       0       0.0\n",
       "...        ...     ...       ...\n",
       "119385       2       0       0.0\n",
       "119386       3       0       0.0\n",
       "119387       2       0       0.0\n",
       "119388       2       0       0.0\n",
       "119389       2       0       0.0\n",
       "\n",
       "[119390 rows x 3 columns]"
      ]
     },
     "execution_count": 34,
     "metadata": {},
     "output_type": "execute_result"
    }
   ],
   "source": [
    "data[['adults','babies','children']]\n",
    "\n"
   ]
  },
  {
   "cell_type": "code",
   "execution_count": 35,
   "metadata": {},
   "outputs": [],
   "source": [
    "def family(data):\n",
    "    if ((data['adults'] > 0) & (data['babies'] > 0)):\n",
    "        val = 1\n",
    "    elif ((data['adults'] > 0) & (data['children'] > 0)):\n",
    "        val = 1\n",
    "    else:\n",
    "        val = 0\n",
    "    return val\n",
    "\n",
    "def deposit(data):\n",
    "    if ((data['deposit_type'] == 'No Deposit') | (data['deposit_type'] == 'Refundable')):\n",
    "        return 0\n",
    "    else:\n",
    "        return 1"
   ]
  },
  {
   "cell_type": "code",
   "execution_count": 36,
   "metadata": {},
   "outputs": [
    {
     "data": {
      "text/plain": [
       "No Deposit    104641\n",
       "Non Refund     14587\n",
       "Refundable       162\n",
       "Name: deposit_type, dtype: int64"
      ]
     },
     "execution_count": 36,
     "metadata": {},
     "output_type": "execute_result"
    }
   ],
   "source": [
    "data['deposit_type'].value_counts()\n",
    "\n"
   ]
  },
  {
   "cell_type": "code",
   "execution_count": 37,
   "metadata": {},
   "outputs": [],
   "source": [
    "def feature(data):\n",
    "    data[\"is_family\"] = data.apply(family, axis=1)\n",
    "    data[\"total_customer\"] = data[\"adults\"] + data [\"babies\"] + data[\"children\"]\n",
    "    data[\"deposit_given\"] = data.apply(deposit, axis=1)\n",
    "    data[\"total_nights\"] = data[\"stays_in_weekend_nights\"] + data[\"stays_in_week_nights\"]\n",
    "    return data\n",
    "\n",
    "data = feature(data)\n",
    "\n"
   ]
  },
  {
   "cell_type": "code",
   "execution_count": 38,
   "metadata": {},
   "outputs": [],
   "source": [
    "#It is good to drop columns that are inside of new features\n",
    "data = data.drop(columns = ['adults', 'babies', 'children', 'deposit_type', 'reservation_status_date'])\n",
    "\n"
   ]
  },
  {
   "cell_type": "code",
   "execution_count": 39,
   "metadata": {},
   "outputs": [
    {
     "name": "stdout",
     "output_type": "stream",
     "text": [
      "<class 'pandas.core.frame.DataFrame'>\n",
      "RangeIndex: 119390 entries, 0 to 119389\n",
      "Data columns (total 30 columns):\n",
      "hotel                             119390 non-null int64\n",
      "is_canceled                       119390 non-null int64\n",
      "lead_time                         119390 non-null int64\n",
      "arrival_date_year                 119390 non-null int64\n",
      "arrival_date_month                119390 non-null int64\n",
      "arrival_date_week_number          119390 non-null int64\n",
      "arrival_date_day_of_month         119390 non-null int64\n",
      "stays_in_weekend_nights           119390 non-null int64\n",
      "stays_in_week_nights              119390 non-null int64\n",
      "meal                              119390 non-null object\n",
      "country                           118902 non-null object\n",
      "market_segment                    119390 non-null object\n",
      "distribution_channel              119390 non-null object\n",
      "is_repeated_guest                 119390 non-null int64\n",
      "previous_cancellations            119390 non-null int64\n",
      "previous_bookings_not_canceled    119390 non-null int64\n",
      "reserved_room_type                119390 non-null object\n",
      "assigned_room_type                119390 non-null object\n",
      "booking_changes                   119390 non-null int64\n",
      "agent                             103050 non-null float64\n",
      "days_in_waiting_list              119390 non-null int64\n",
      "customer_type                     119390 non-null object\n",
      "adr                               119390 non-null float64\n",
      "required_car_parking_spaces       119390 non-null int64\n",
      "total_of_special_requests         119390 non-null int64\n",
      "reservation_status                119390 non-null object\n",
      "is_family                         119390 non-null int64\n",
      "total_customer                    119390 non-null float64\n",
      "deposit_given                     119390 non-null int64\n",
      "total_nights                      119390 non-null int64\n",
      "dtypes: float64(3), int64(19), object(8)\n",
      "memory usage: 27.3+ MB\n"
     ]
    }
   ],
   "source": [
    "data.info()\n"
   ]
  },
  {
   "cell_type": "markdown",
   "metadata": {},
   "source": [
    "# Correlation"
   ]
  },
  {
   "cell_type": "code",
   "execution_count": 40,
   "metadata": {},
   "outputs": [
    {
     "data": {
      "text/plain": [
       "Index(['hotel', 'is_canceled', 'lead_time', 'arrival_date_year',\n",
       "       'arrival_date_month', 'arrival_date_week_number',\n",
       "       'arrival_date_day_of_month', 'stays_in_weekend_nights',\n",
       "       'stays_in_week_nights', 'meal', 'country', 'market_segment',\n",
       "       'distribution_channel', 'is_repeated_guest', 'previous_cancellations',\n",
       "       'previous_bookings_not_canceled', 'reserved_room_type',\n",
       "       'assigned_room_type', 'booking_changes', 'agent',\n",
       "       'days_in_waiting_list', 'customer_type', 'adr',\n",
       "       'required_car_parking_spaces', 'total_of_special_requests',\n",
       "       'reservation_status', 'is_family', 'total_customer', 'deposit_given',\n",
       "       'total_nights'],\n",
       "      dtype='object')"
      ]
     },
     "execution_count": 40,
     "metadata": {},
     "output_type": "execute_result"
    }
   ],
   "source": [
    "data.columns\n"
   ]
  },
  {
   "cell_type": "code",
   "execution_count": 41,
   "metadata": {},
   "outputs": [],
   "source": [
    "# Lets copy data to check the correlation between variables. \n",
    "cor_data = data.copy()\n"
   ]
  },
  {
   "cell_type": "code",
   "execution_count": 42,
   "metadata": {},
   "outputs": [],
   "source": [
    "le = LabelEncoder()\n"
   ]
  },
  {
   "cell_type": "code",
   "execution_count": 43,
   "metadata": {},
   "outputs": [],
   "source": [
    "# This data will not be used while predicting cancellation. This is just for checking correlation.\n",
    "\n",
    "cor_data['meal'] = le.fit_transform(cor_data['meal'])\n",
    "cor_data['distribution_channel'] = le.fit_transform(cor_data['distribution_channel'])\n",
    "cor_data['reserved_room_type'] = le.fit_transform(cor_data['reserved_room_type'])\n",
    "cor_data['assigned_room_type'] = le.fit_transform(cor_data['assigned_room_type'])\n",
    "cor_data['agent'] = le.fit_transform(cor_data['agent'])\n",
    "cor_data['customer_type'] = le.fit_transform(cor_data['customer_type'])\n",
    "cor_data['reservation_status'] = le.fit_transform(cor_data['reservation_status'])\n",
    "cor_data['market_segment'] = le.fit_transform(cor_data['market_segment'])\n",
    "\n"
   ]
  },
  {
   "cell_type": "code",
   "execution_count": 44,
   "metadata": {},
   "outputs": [
    {
     "data": {
      "text/html": [
       "<div>\n",
       "<style scoped>\n",
       "    .dataframe tbody tr th:only-of-type {\n",
       "        vertical-align: middle;\n",
       "    }\n",
       "\n",
       "    .dataframe tbody tr th {\n",
       "        vertical-align: top;\n",
       "    }\n",
       "\n",
       "    .dataframe thead th {\n",
       "        text-align: right;\n",
       "    }\n",
       "</style>\n",
       "<table border=\"1\" class=\"dataframe\">\n",
       "  <thead>\n",
       "    <tr style=\"text-align: right;\">\n",
       "      <th></th>\n",
       "      <th>hotel</th>\n",
       "      <th>is_canceled</th>\n",
       "      <th>lead_time</th>\n",
       "      <th>arrival_date_year</th>\n",
       "      <th>arrival_date_month</th>\n",
       "      <th>arrival_date_week_number</th>\n",
       "      <th>arrival_date_day_of_month</th>\n",
       "      <th>stays_in_weekend_nights</th>\n",
       "      <th>stays_in_week_nights</th>\n",
       "      <th>meal</th>\n",
       "      <th>...</th>\n",
       "      <th>days_in_waiting_list</th>\n",
       "      <th>customer_type</th>\n",
       "      <th>adr</th>\n",
       "      <th>required_car_parking_spaces</th>\n",
       "      <th>total_of_special_requests</th>\n",
       "      <th>reservation_status</th>\n",
       "      <th>is_family</th>\n",
       "      <th>total_customer</th>\n",
       "      <th>deposit_given</th>\n",
       "      <th>total_nights</th>\n",
       "    </tr>\n",
       "  </thead>\n",
       "  <tbody>\n",
       "    <tr>\n",
       "      <td>hotel</td>\n",
       "      <td>1.000000</td>\n",
       "      <td>0.136531</td>\n",
       "      <td>0.075381</td>\n",
       "      <td>0.035267</td>\n",
       "      <td>0.001817</td>\n",
       "      <td>0.001270</td>\n",
       "      <td>-0.001862</td>\n",
       "      <td>-0.186596</td>\n",
       "      <td>-0.234020</td>\n",
       "      <td>0.008018</td>\n",
       "      <td>...</td>\n",
       "      <td>0.072432</td>\n",
       "      <td>0.047531</td>\n",
       "      <td>0.096719</td>\n",
       "      <td>-0.218873</td>\n",
       "      <td>-0.043390</td>\n",
       "      <td>-0.124331</td>\n",
       "      <td>-0.058306</td>\n",
       "      <td>-0.040821</td>\n",
       "      <td>0.172003</td>\n",
       "      <td>-0.247479</td>\n",
       "    </tr>\n",
       "    <tr>\n",
       "      <td>is_canceled</td>\n",
       "      <td>0.136531</td>\n",
       "      <td>1.000000</td>\n",
       "      <td>0.293123</td>\n",
       "      <td>0.016660</td>\n",
       "      <td>0.011022</td>\n",
       "      <td>0.008148</td>\n",
       "      <td>-0.006130</td>\n",
       "      <td>-0.001791</td>\n",
       "      <td>0.024765</td>\n",
       "      <td>-0.017678</td>\n",
       "      <td>...</td>\n",
       "      <td>0.054186</td>\n",
       "      <td>-0.068140</td>\n",
       "      <td>0.047557</td>\n",
       "      <td>-0.195498</td>\n",
       "      <td>-0.234658</td>\n",
       "      <td>-0.917196</td>\n",
       "      <td>-0.013010</td>\n",
       "      <td>0.046522</td>\n",
       "      <td>0.481457</td>\n",
       "      <td>0.017779</td>\n",
       "    </tr>\n",
       "    <tr>\n",
       "      <td>lead_time</td>\n",
       "      <td>0.075381</td>\n",
       "      <td>0.293123</td>\n",
       "      <td>1.000000</td>\n",
       "      <td>0.040142</td>\n",
       "      <td>0.131424</td>\n",
       "      <td>0.126871</td>\n",
       "      <td>0.002268</td>\n",
       "      <td>0.085671</td>\n",
       "      <td>0.165799</td>\n",
       "      <td>0.000349</td>\n",
       "      <td>...</td>\n",
       "      <td>0.170084</td>\n",
       "      <td>0.073403</td>\n",
       "      <td>-0.063077</td>\n",
       "      <td>-0.116451</td>\n",
       "      <td>-0.095712</td>\n",
       "      <td>-0.302175</td>\n",
       "      <td>-0.043972</td>\n",
       "      <td>0.072265</td>\n",
       "      <td>0.380179</td>\n",
       "      <td>0.157167</td>\n",
       "    </tr>\n",
       "    <tr>\n",
       "      <td>arrival_date_year</td>\n",
       "      <td>0.035267</td>\n",
       "      <td>0.016660</td>\n",
       "      <td>0.040142</td>\n",
       "      <td>1.000000</td>\n",
       "      <td>-0.527739</td>\n",
       "      <td>-0.540561</td>\n",
       "      <td>-0.000221</td>\n",
       "      <td>0.021497</td>\n",
       "      <td>0.030883</td>\n",
       "      <td>0.065840</td>\n",
       "      <td>...</td>\n",
       "      <td>-0.056497</td>\n",
       "      <td>-0.006149</td>\n",
       "      <td>0.197580</td>\n",
       "      <td>-0.013684</td>\n",
       "      <td>0.108531</td>\n",
       "      <td>-0.017683</td>\n",
       "      <td>0.052711</td>\n",
       "      <td>0.052127</td>\n",
       "      <td>-0.065963</td>\n",
       "      <td>0.031438</td>\n",
       "    </tr>\n",
       "    <tr>\n",
       "      <td>arrival_date_month</td>\n",
       "      <td>0.001817</td>\n",
       "      <td>0.011022</td>\n",
       "      <td>0.131424</td>\n",
       "      <td>-0.527739</td>\n",
       "      <td>1.000000</td>\n",
       "      <td>0.995105</td>\n",
       "      <td>-0.026063</td>\n",
       "      <td>0.018440</td>\n",
       "      <td>0.019212</td>\n",
       "      <td>-0.015205</td>\n",
       "      <td>...</td>\n",
       "      <td>0.019045</td>\n",
       "      <td>-0.029753</td>\n",
       "      <td>0.079315</td>\n",
       "      <td>0.000257</td>\n",
       "      <td>0.028026</td>\n",
       "      <td>-0.021090</td>\n",
       "      <td>0.010427</td>\n",
       "      <td>0.027252</td>\n",
       "      <td>0.008746</td>\n",
       "      <td>0.021536</td>\n",
       "    </tr>\n",
       "    <tr>\n",
       "      <td>arrival_date_week_number</td>\n",
       "      <td>0.001270</td>\n",
       "      <td>0.008148</td>\n",
       "      <td>0.126871</td>\n",
       "      <td>-0.540561</td>\n",
       "      <td>0.995105</td>\n",
       "      <td>1.000000</td>\n",
       "      <td>0.066809</td>\n",
       "      <td>0.018208</td>\n",
       "      <td>0.015558</td>\n",
       "      <td>-0.017381</td>\n",
       "      <td>...</td>\n",
       "      <td>0.022933</td>\n",
       "      <td>-0.028432</td>\n",
       "      <td>0.075791</td>\n",
       "      <td>0.001920</td>\n",
       "      <td>0.026149</td>\n",
       "      <td>-0.017387</td>\n",
       "      <td>0.010611</td>\n",
       "      <td>0.025220</td>\n",
       "      <td>0.007773</td>\n",
       "      <td>0.018719</td>\n",
       "    </tr>\n",
       "    <tr>\n",
       "      <td>arrival_date_day_of_month</td>\n",
       "      <td>-0.001862</td>\n",
       "      <td>-0.006130</td>\n",
       "      <td>0.002268</td>\n",
       "      <td>-0.000221</td>\n",
       "      <td>-0.026063</td>\n",
       "      <td>0.066809</td>\n",
       "      <td>1.000000</td>\n",
       "      <td>-0.016354</td>\n",
       "      <td>-0.028174</td>\n",
       "      <td>-0.007086</td>\n",
       "      <td>...</td>\n",
       "      <td>0.022728</td>\n",
       "      <td>0.012188</td>\n",
       "      <td>0.030245</td>\n",
       "      <td>0.008683</td>\n",
       "      <td>0.003062</td>\n",
       "      <td>0.011460</td>\n",
       "      <td>0.014710</td>\n",
       "      <td>0.006742</td>\n",
       "      <td>-0.008616</td>\n",
       "      <td>-0.027408</td>\n",
       "    </tr>\n",
       "    <tr>\n",
       "      <td>stays_in_weekend_nights</td>\n",
       "      <td>-0.186596</td>\n",
       "      <td>-0.001791</td>\n",
       "      <td>0.085671</td>\n",
       "      <td>0.021497</td>\n",
       "      <td>0.018440</td>\n",
       "      <td>0.018208</td>\n",
       "      <td>-0.016354</td>\n",
       "      <td>1.000000</td>\n",
       "      <td>0.498969</td>\n",
       "      <td>0.045744</td>\n",
       "      <td>...</td>\n",
       "      <td>-0.054151</td>\n",
       "      <td>-0.109220</td>\n",
       "      <td>0.049342</td>\n",
       "      <td>-0.018554</td>\n",
       "      <td>0.072671</td>\n",
       "      <td>0.008558</td>\n",
       "      <td>0.052306</td>\n",
       "      <td>0.101426</td>\n",
       "      <td>-0.114275</td>\n",
       "      <td>0.762790</td>\n",
       "    </tr>\n",
       "    <tr>\n",
       "      <td>stays_in_week_nights</td>\n",
       "      <td>-0.234020</td>\n",
       "      <td>0.024765</td>\n",
       "      <td>0.165799</td>\n",
       "      <td>0.030883</td>\n",
       "      <td>0.019212</td>\n",
       "      <td>0.015558</td>\n",
       "      <td>-0.028174</td>\n",
       "      <td>0.498969</td>\n",
       "      <td>1.000000</td>\n",
       "      <td>0.036742</td>\n",
       "      <td>...</td>\n",
       "      <td>-0.002020</td>\n",
       "      <td>-0.127223</td>\n",
       "      <td>0.065237</td>\n",
       "      <td>-0.024859</td>\n",
       "      <td>0.068192</td>\n",
       "      <td>-0.021607</td>\n",
       "      <td>0.050424</td>\n",
       "      <td>0.101665</td>\n",
       "      <td>-0.079999</td>\n",
       "      <td>0.941005</td>\n",
       "    </tr>\n",
       "    <tr>\n",
       "      <td>meal</td>\n",
       "      <td>0.008018</td>\n",
       "      <td>-0.017678</td>\n",
       "      <td>0.000349</td>\n",
       "      <td>0.065840</td>\n",
       "      <td>-0.015205</td>\n",
       "      <td>-0.017381</td>\n",
       "      <td>-0.007086</td>\n",
       "      <td>0.045744</td>\n",
       "      <td>0.036742</td>\n",
       "      <td>1.000000</td>\n",
       "      <td>...</td>\n",
       "      <td>-0.007132</td>\n",
       "      <td>0.044658</td>\n",
       "      <td>0.059098</td>\n",
       "      <td>-0.038923</td>\n",
       "      <td>0.023136</td>\n",
       "      <td>0.015393</td>\n",
       "      <td>-0.041727</td>\n",
       "      <td>-0.005975</td>\n",
       "      <td>-0.090725</td>\n",
       "      <td>0.045277</td>\n",
       "    </tr>\n",
       "    <tr>\n",
       "      <td>market_segment</td>\n",
       "      <td>0.083795</td>\n",
       "      <td>0.059338</td>\n",
       "      <td>0.013797</td>\n",
       "      <td>0.107697</td>\n",
       "      <td>0.001293</td>\n",
       "      <td>-0.000510</td>\n",
       "      <td>-0.004088</td>\n",
       "      <td>0.115350</td>\n",
       "      <td>0.108569</td>\n",
       "      <td>0.145132</td>\n",
       "      <td>...</td>\n",
       "      <td>-0.041503</td>\n",
       "      <td>-0.165814</td>\n",
       "      <td>0.232763</td>\n",
       "      <td>-0.062226</td>\n",
       "      <td>0.274373</td>\n",
       "      <td>-0.061584</td>\n",
       "      <td>0.080450</td>\n",
       "      <td>0.213221</td>\n",
       "      <td>-0.183880</td>\n",
       "      <td>0.126052</td>\n",
       "    </tr>\n",
       "    <tr>\n",
       "      <td>distribution_channel</td>\n",
       "      <td>0.174419</td>\n",
       "      <td>0.167600</td>\n",
       "      <td>0.220414</td>\n",
       "      <td>0.022644</td>\n",
       "      <td>0.007381</td>\n",
       "      <td>0.005699</td>\n",
       "      <td>0.001578</td>\n",
       "      <td>0.093097</td>\n",
       "      <td>0.087185</td>\n",
       "      <td>0.116957</td>\n",
       "      <td>...</td>\n",
       "      <td>0.048642</td>\n",
       "      <td>-0.069640</td>\n",
       "      <td>0.092396</td>\n",
       "      <td>-0.132280</td>\n",
       "      <td>0.098815</td>\n",
       "      <td>-0.171330</td>\n",
       "      <td>0.000464</td>\n",
       "      <td>0.144357</td>\n",
       "      <td>0.102548</td>\n",
       "      <td>0.101407</td>\n",
       "    </tr>\n",
       "    <tr>\n",
       "      <td>is_repeated_guest</td>\n",
       "      <td>-0.050421</td>\n",
       "      <td>-0.084793</td>\n",
       "      <td>-0.124410</td>\n",
       "      <td>0.010341</td>\n",
       "      <td>-0.030729</td>\n",
       "      <td>-0.030131</td>\n",
       "      <td>-0.006145</td>\n",
       "      <td>-0.087239</td>\n",
       "      <td>-0.097245</td>\n",
       "      <td>-0.057009</td>\n",
       "      <td>...</td>\n",
       "      <td>-0.022235</td>\n",
       "      <td>-0.017111</td>\n",
       "      <td>-0.134314</td>\n",
       "      <td>0.077090</td>\n",
       "      <td>0.013050</td>\n",
       "      <td>0.083504</td>\n",
       "      <td>-0.035127</td>\n",
       "      <td>-0.136748</td>\n",
       "      <td>-0.058423</td>\n",
       "      <td>-0.106626</td>\n",
       "    </tr>\n",
       "    <tr>\n",
       "      <td>previous_cancellations</td>\n",
       "      <td>-0.012292</td>\n",
       "      <td>0.110133</td>\n",
       "      <td>0.086042</td>\n",
       "      <td>-0.119822</td>\n",
       "      <td>0.037479</td>\n",
       "      <td>0.035501</td>\n",
       "      <td>-0.027011</td>\n",
       "      <td>-0.012775</td>\n",
       "      <td>-0.013992</td>\n",
       "      <td>-0.003772</td>\n",
       "      <td>...</td>\n",
       "      <td>0.005929</td>\n",
       "      <td>-0.008188</td>\n",
       "      <td>-0.065646</td>\n",
       "      <td>-0.018492</td>\n",
       "      <td>-0.048384</td>\n",
       "      <td>-0.110758</td>\n",
       "      <td>-0.027262</td>\n",
       "      <td>-0.020058</td>\n",
       "      <td>0.143314</td>\n",
       "      <td>-0.015429</td>\n",
       "    </tr>\n",
       "    <tr>\n",
       "      <td>previous_bookings_not_canceled</td>\n",
       "      <td>-0.004441</td>\n",
       "      <td>-0.057358</td>\n",
       "      <td>-0.073548</td>\n",
       "      <td>0.029218</td>\n",
       "      <td>-0.021640</td>\n",
       "      <td>-0.020904</td>\n",
       "      <td>-0.000300</td>\n",
       "      <td>-0.042715</td>\n",
       "      <td>-0.048743</td>\n",
       "      <td>-0.040417</td>\n",
       "      <td>...</td>\n",
       "      <td>-0.009397</td>\n",
       "      <td>-0.012259</td>\n",
       "      <td>-0.072144</td>\n",
       "      <td>0.047653</td>\n",
       "      <td>0.037824</td>\n",
       "      <td>0.055051</td>\n",
       "      <td>-0.022815</td>\n",
       "      <td>-0.099097</td>\n",
       "      <td>-0.031509</td>\n",
       "      <td>-0.053049</td>\n",
       "    </tr>\n",
       "    <tr>\n",
       "      <td>reserved_room_type</td>\n",
       "      <td>-0.249677</td>\n",
       "      <td>-0.061282</td>\n",
       "      <td>-0.106089</td>\n",
       "      <td>0.092809</td>\n",
       "      <td>-0.007923</td>\n",
       "      <td>-0.007997</td>\n",
       "      <td>0.016929</td>\n",
       "      <td>0.142083</td>\n",
       "      <td>0.168616</td>\n",
       "      <td>-0.120749</td>\n",
       "      <td>...</td>\n",
       "      <td>-0.068821</td>\n",
       "      <td>-0.120978</td>\n",
       "      <td>0.392060</td>\n",
       "      <td>0.131583</td>\n",
       "      <td>0.137466</td>\n",
       "      <td>0.058693</td>\n",
       "      <td>0.323910</td>\n",
       "      <td>0.383357</td>\n",
       "      <td>-0.201348</td>\n",
       "      <td>0.181296</td>\n",
       "    </tr>\n",
       "    <tr>\n",
       "      <td>assigned_room_type</td>\n",
       "      <td>-0.307834</td>\n",
       "      <td>-0.176028</td>\n",
       "      <td>-0.172219</td>\n",
       "      <td>0.036141</td>\n",
       "      <td>-0.006378</td>\n",
       "      <td>-0.005684</td>\n",
       "      <td>0.011646</td>\n",
       "      <td>0.086643</td>\n",
       "      <td>0.100795</td>\n",
       "      <td>-0.120792</td>\n",
       "      <td>...</td>\n",
       "      <td>-0.068676</td>\n",
       "      <td>-0.084427</td>\n",
       "      <td>0.258134</td>\n",
       "      <td>0.160131</td>\n",
       "      <td>0.124683</td>\n",
       "      <td>0.172537</td>\n",
       "      <td>0.292940</td>\n",
       "      <td>0.302422</td>\n",
       "      <td>-0.246602</td>\n",
       "      <td>0.109042</td>\n",
       "    </tr>\n",
       "    <tr>\n",
       "      <td>booking_changes</td>\n",
       "      <td>-0.072820</td>\n",
       "      <td>-0.144381</td>\n",
       "      <td>0.000149</td>\n",
       "      <td>0.030872</td>\n",
       "      <td>0.004809</td>\n",
       "      <td>0.005508</td>\n",
       "      <td>0.010613</td>\n",
       "      <td>0.063281</td>\n",
       "      <td>0.096209</td>\n",
       "      <td>0.024650</td>\n",
       "      <td>...</td>\n",
       "      <td>-0.011634</td>\n",
       "      <td>0.092029</td>\n",
       "      <td>0.019618</td>\n",
       "      <td>0.065620</td>\n",
       "      <td>0.052833</td>\n",
       "      <td>0.140799</td>\n",
       "      <td>0.079121</td>\n",
       "      <td>-0.003173</td>\n",
       "      <td>-0.119333</td>\n",
       "      <td>0.096498</td>\n",
       "    </tr>\n",
       "    <tr>\n",
       "      <td>agent</td>\n",
       "      <td>-0.158500</td>\n",
       "      <td>-0.127883</td>\n",
       "      <td>-0.171430</td>\n",
       "      <td>-0.017723</td>\n",
       "      <td>-0.000799</td>\n",
       "      <td>0.001638</td>\n",
       "      <td>-0.002271</td>\n",
       "      <td>-0.110284</td>\n",
       "      <td>-0.110354</td>\n",
       "      <td>-0.095428</td>\n",
       "      <td>...</td>\n",
       "      <td>-0.039667</td>\n",
       "      <td>0.066095</td>\n",
       "      <td>-0.126407</td>\n",
       "      <td>0.113648</td>\n",
       "      <td>-0.085429</td>\n",
       "      <td>0.123264</td>\n",
       "      <td>-0.032656</td>\n",
       "      <td>-0.155423</td>\n",
       "      <td>-0.013898</td>\n",
       "      <td>-0.125406</td>\n",
       "    </tr>\n",
       "    <tr>\n",
       "      <td>days_in_waiting_list</td>\n",
       "      <td>0.072432</td>\n",
       "      <td>0.054186</td>\n",
       "      <td>0.170084</td>\n",
       "      <td>-0.056497</td>\n",
       "      <td>0.019045</td>\n",
       "      <td>0.022933</td>\n",
       "      <td>0.022728</td>\n",
       "      <td>-0.054151</td>\n",
       "      <td>-0.002020</td>\n",
       "      <td>-0.007132</td>\n",
       "      <td>...</td>\n",
       "      <td>1.000000</td>\n",
       "      <td>0.099121</td>\n",
       "      <td>-0.040756</td>\n",
       "      <td>-0.030600</td>\n",
       "      <td>-0.082730</td>\n",
       "      <td>-0.057927</td>\n",
       "      <td>-0.036312</td>\n",
       "      <td>-0.026431</td>\n",
       "      <td>0.120249</td>\n",
       "      <td>-0.022652</td>\n",
       "    </tr>\n",
       "    <tr>\n",
       "      <td>customer_type</td>\n",
       "      <td>0.047531</td>\n",
       "      <td>-0.068140</td>\n",
       "      <td>0.073403</td>\n",
       "      <td>-0.006149</td>\n",
       "      <td>-0.029753</td>\n",
       "      <td>-0.028432</td>\n",
       "      <td>0.012188</td>\n",
       "      <td>-0.109220</td>\n",
       "      <td>-0.127223</td>\n",
       "      <td>0.044658</td>\n",
       "      <td>...</td>\n",
       "      <td>0.099121</td>\n",
       "      <td>1.000000</td>\n",
       "      <td>-0.077155</td>\n",
       "      <td>-0.030060</td>\n",
       "      <td>-0.135624</td>\n",
       "      <td>0.066004</td>\n",
       "      <td>-0.060139</td>\n",
       "      <td>-0.113232</td>\n",
       "      <td>-0.086745</td>\n",
       "      <td>-0.137577</td>\n",
       "    </tr>\n",
       "    <tr>\n",
       "      <td>adr</td>\n",
       "      <td>0.096719</td>\n",
       "      <td>0.047557</td>\n",
       "      <td>-0.063077</td>\n",
       "      <td>0.197580</td>\n",
       "      <td>0.079315</td>\n",
       "      <td>0.075791</td>\n",
       "      <td>0.030245</td>\n",
       "      <td>0.049342</td>\n",
       "      <td>0.065237</td>\n",
       "      <td>0.059098</td>\n",
       "      <td>...</td>\n",
       "      <td>-0.040756</td>\n",
       "      <td>-0.077155</td>\n",
       "      <td>1.000000</td>\n",
       "      <td>0.056628</td>\n",
       "      <td>0.172185</td>\n",
       "      <td>-0.050520</td>\n",
       "      <td>0.309360</td>\n",
       "      <td>0.368105</td>\n",
       "      <td>-0.087608</td>\n",
       "      <td>0.067945</td>\n",
       "    </tr>\n",
       "    <tr>\n",
       "      <td>required_car_parking_spaces</td>\n",
       "      <td>-0.218873</td>\n",
       "      <td>-0.195498</td>\n",
       "      <td>-0.116451</td>\n",
       "      <td>-0.013684</td>\n",
       "      <td>0.000257</td>\n",
       "      <td>0.001920</td>\n",
       "      <td>0.008683</td>\n",
       "      <td>-0.018554</td>\n",
       "      <td>-0.024859</td>\n",
       "      <td>-0.038923</td>\n",
       "      <td>...</td>\n",
       "      <td>-0.030600</td>\n",
       "      <td>-0.030060</td>\n",
       "      <td>0.056628</td>\n",
       "      <td>1.000000</td>\n",
       "      <td>0.082626</td>\n",
       "      <td>0.179310</td>\n",
       "      <td>0.069141</td>\n",
       "      <td>0.047934</td>\n",
       "      <td>-0.094982</td>\n",
       "      <td>-0.025794</td>\n",
       "    </tr>\n",
       "    <tr>\n",
       "      <td>total_of_special_requests</td>\n",
       "      <td>-0.043390</td>\n",
       "      <td>-0.234658</td>\n",
       "      <td>-0.095712</td>\n",
       "      <td>0.108531</td>\n",
       "      <td>0.028026</td>\n",
       "      <td>0.026149</td>\n",
       "      <td>0.003062</td>\n",
       "      <td>0.072671</td>\n",
       "      <td>0.068192</td>\n",
       "      <td>0.023136</td>\n",
       "      <td>...</td>\n",
       "      <td>-0.082730</td>\n",
       "      <td>-0.135624</td>\n",
       "      <td>0.172185</td>\n",
       "      <td>0.082626</td>\n",
       "      <td>1.000000</td>\n",
       "      <td>0.225674</td>\n",
       "      <td>0.128205</td>\n",
       "      <td>0.156834</td>\n",
       "      <td>-0.268034</td>\n",
       "      <td>0.079259</td>\n",
       "    </tr>\n",
       "    <tr>\n",
       "      <td>reservation_status</td>\n",
       "      <td>-0.124331</td>\n",
       "      <td>-0.917196</td>\n",
       "      <td>-0.302175</td>\n",
       "      <td>-0.017683</td>\n",
       "      <td>-0.021090</td>\n",
       "      <td>-0.017387</td>\n",
       "      <td>0.011460</td>\n",
       "      <td>0.008558</td>\n",
       "      <td>-0.021607</td>\n",
       "      <td>0.015393</td>\n",
       "      <td>...</td>\n",
       "      <td>-0.057927</td>\n",
       "      <td>0.066004</td>\n",
       "      <td>-0.050520</td>\n",
       "      <td>0.179310</td>\n",
       "      <td>0.225674</td>\n",
       "      <td>1.000000</td>\n",
       "      <td>0.013117</td>\n",
       "      <td>-0.055273</td>\n",
       "      <td>-0.478747</td>\n",
       "      <td>-0.012781</td>\n",
       "    </tr>\n",
       "    <tr>\n",
       "      <td>is_family</td>\n",
       "      <td>-0.058306</td>\n",
       "      <td>-0.013010</td>\n",
       "      <td>-0.043972</td>\n",
       "      <td>0.052711</td>\n",
       "      <td>0.010427</td>\n",
       "      <td>0.010611</td>\n",
       "      <td>0.014710</td>\n",
       "      <td>0.052306</td>\n",
       "      <td>0.050424</td>\n",
       "      <td>-0.041727</td>\n",
       "      <td>...</td>\n",
       "      <td>-0.036312</td>\n",
       "      <td>-0.060139</td>\n",
       "      <td>0.309360</td>\n",
       "      <td>0.069141</td>\n",
       "      <td>0.128205</td>\n",
       "      <td>0.013117</td>\n",
       "      <td>1.000000</td>\n",
       "      <td>0.579899</td>\n",
       "      <td>-0.106643</td>\n",
       "      <td>0.058049</td>\n",
       "    </tr>\n",
       "    <tr>\n",
       "      <td>total_customer</td>\n",
       "      <td>-0.040821</td>\n",
       "      <td>0.046522</td>\n",
       "      <td>0.072265</td>\n",
       "      <td>0.052127</td>\n",
       "      <td>0.027252</td>\n",
       "      <td>0.025220</td>\n",
       "      <td>0.006742</td>\n",
       "      <td>0.101426</td>\n",
       "      <td>0.101665</td>\n",
       "      <td>-0.005975</td>\n",
       "      <td>...</td>\n",
       "      <td>-0.026431</td>\n",
       "      <td>-0.113232</td>\n",
       "      <td>0.368105</td>\n",
       "      <td>0.047934</td>\n",
       "      <td>0.156834</td>\n",
       "      <td>-0.055273</td>\n",
       "      <td>0.579899</td>\n",
       "      <td>1.000000</td>\n",
       "      <td>-0.080676</td>\n",
       "      <td>0.115463</td>\n",
       "    </tr>\n",
       "    <tr>\n",
       "      <td>deposit_given</td>\n",
       "      <td>0.172003</td>\n",
       "      <td>0.481457</td>\n",
       "      <td>0.380179</td>\n",
       "      <td>-0.065963</td>\n",
       "      <td>0.008746</td>\n",
       "      <td>0.007773</td>\n",
       "      <td>-0.008616</td>\n",
       "      <td>-0.114275</td>\n",
       "      <td>-0.079999</td>\n",
       "      <td>-0.090725</td>\n",
       "      <td>...</td>\n",
       "      <td>0.120249</td>\n",
       "      <td>-0.086745</td>\n",
       "      <td>-0.087608</td>\n",
       "      <td>-0.094982</td>\n",
       "      <td>-0.268034</td>\n",
       "      <td>-0.478747</td>\n",
       "      <td>-0.106643</td>\n",
       "      <td>-0.080676</td>\n",
       "      <td>1.000000</td>\n",
       "      <td>-0.104314</td>\n",
       "    </tr>\n",
       "    <tr>\n",
       "      <td>total_nights</td>\n",
       "      <td>-0.247479</td>\n",
       "      <td>0.017779</td>\n",
       "      <td>0.157167</td>\n",
       "      <td>0.031438</td>\n",
       "      <td>0.021536</td>\n",
       "      <td>0.018719</td>\n",
       "      <td>-0.027408</td>\n",
       "      <td>0.762790</td>\n",
       "      <td>0.941005</td>\n",
       "      <td>0.045277</td>\n",
       "      <td>...</td>\n",
       "      <td>-0.022652</td>\n",
       "      <td>-0.137577</td>\n",
       "      <td>0.067945</td>\n",
       "      <td>-0.025794</td>\n",
       "      <td>0.079259</td>\n",
       "      <td>-0.012781</td>\n",
       "      <td>0.058049</td>\n",
       "      <td>0.115463</td>\n",
       "      <td>-0.104314</td>\n",
       "      <td>1.000000</td>\n",
       "    </tr>\n",
       "  </tbody>\n",
       "</table>\n",
       "<p>29 rows × 29 columns</p>\n",
       "</div>"
      ],
      "text/plain": [
       "                                   hotel  is_canceled  lead_time  \\\n",
       "hotel                           1.000000     0.136531   0.075381   \n",
       "is_canceled                     0.136531     1.000000   0.293123   \n",
       "lead_time                       0.075381     0.293123   1.000000   \n",
       "arrival_date_year               0.035267     0.016660   0.040142   \n",
       "arrival_date_month              0.001817     0.011022   0.131424   \n",
       "arrival_date_week_number        0.001270     0.008148   0.126871   \n",
       "arrival_date_day_of_month      -0.001862    -0.006130   0.002268   \n",
       "stays_in_weekend_nights        -0.186596    -0.001791   0.085671   \n",
       "stays_in_week_nights           -0.234020     0.024765   0.165799   \n",
       "meal                            0.008018    -0.017678   0.000349   \n",
       "market_segment                  0.083795     0.059338   0.013797   \n",
       "distribution_channel            0.174419     0.167600   0.220414   \n",
       "is_repeated_guest              -0.050421    -0.084793  -0.124410   \n",
       "previous_cancellations         -0.012292     0.110133   0.086042   \n",
       "previous_bookings_not_canceled -0.004441    -0.057358  -0.073548   \n",
       "reserved_room_type             -0.249677    -0.061282  -0.106089   \n",
       "assigned_room_type             -0.307834    -0.176028  -0.172219   \n",
       "booking_changes                -0.072820    -0.144381   0.000149   \n",
       "agent                          -0.158500    -0.127883  -0.171430   \n",
       "days_in_waiting_list            0.072432     0.054186   0.170084   \n",
       "customer_type                   0.047531    -0.068140   0.073403   \n",
       "adr                             0.096719     0.047557  -0.063077   \n",
       "required_car_parking_spaces    -0.218873    -0.195498  -0.116451   \n",
       "total_of_special_requests      -0.043390    -0.234658  -0.095712   \n",
       "reservation_status             -0.124331    -0.917196  -0.302175   \n",
       "is_family                      -0.058306    -0.013010  -0.043972   \n",
       "total_customer                 -0.040821     0.046522   0.072265   \n",
       "deposit_given                   0.172003     0.481457   0.380179   \n",
       "total_nights                   -0.247479     0.017779   0.157167   \n",
       "\n",
       "                                arrival_date_year  arrival_date_month  \\\n",
       "hotel                                    0.035267            0.001817   \n",
       "is_canceled                              0.016660            0.011022   \n",
       "lead_time                                0.040142            0.131424   \n",
       "arrival_date_year                        1.000000           -0.527739   \n",
       "arrival_date_month                      -0.527739            1.000000   \n",
       "arrival_date_week_number                -0.540561            0.995105   \n",
       "arrival_date_day_of_month               -0.000221           -0.026063   \n",
       "stays_in_weekend_nights                  0.021497            0.018440   \n",
       "stays_in_week_nights                     0.030883            0.019212   \n",
       "meal                                     0.065840           -0.015205   \n",
       "market_segment                           0.107697            0.001293   \n",
       "distribution_channel                     0.022644            0.007381   \n",
       "is_repeated_guest                        0.010341           -0.030729   \n",
       "previous_cancellations                  -0.119822            0.037479   \n",
       "previous_bookings_not_canceled           0.029218           -0.021640   \n",
       "reserved_room_type                       0.092809           -0.007923   \n",
       "assigned_room_type                       0.036141           -0.006378   \n",
       "booking_changes                          0.030872            0.004809   \n",
       "agent                                   -0.017723           -0.000799   \n",
       "days_in_waiting_list                    -0.056497            0.019045   \n",
       "customer_type                           -0.006149           -0.029753   \n",
       "adr                                      0.197580            0.079315   \n",
       "required_car_parking_spaces             -0.013684            0.000257   \n",
       "total_of_special_requests                0.108531            0.028026   \n",
       "reservation_status                      -0.017683           -0.021090   \n",
       "is_family                                0.052711            0.010427   \n",
       "total_customer                           0.052127            0.027252   \n",
       "deposit_given                           -0.065963            0.008746   \n",
       "total_nights                             0.031438            0.021536   \n",
       "\n",
       "                                arrival_date_week_number  \\\n",
       "hotel                                           0.001270   \n",
       "is_canceled                                     0.008148   \n",
       "lead_time                                       0.126871   \n",
       "arrival_date_year                              -0.540561   \n",
       "arrival_date_month                              0.995105   \n",
       "arrival_date_week_number                        1.000000   \n",
       "arrival_date_day_of_month                       0.066809   \n",
       "stays_in_weekend_nights                         0.018208   \n",
       "stays_in_week_nights                            0.015558   \n",
       "meal                                           -0.017381   \n",
       "market_segment                                 -0.000510   \n",
       "distribution_channel                            0.005699   \n",
       "is_repeated_guest                              -0.030131   \n",
       "previous_cancellations                          0.035501   \n",
       "previous_bookings_not_canceled                 -0.020904   \n",
       "reserved_room_type                             -0.007997   \n",
       "assigned_room_type                             -0.005684   \n",
       "booking_changes                                 0.005508   \n",
       "agent                                           0.001638   \n",
       "days_in_waiting_list                            0.022933   \n",
       "customer_type                                  -0.028432   \n",
       "adr                                             0.075791   \n",
       "required_car_parking_spaces                     0.001920   \n",
       "total_of_special_requests                       0.026149   \n",
       "reservation_status                             -0.017387   \n",
       "is_family                                       0.010611   \n",
       "total_customer                                  0.025220   \n",
       "deposit_given                                   0.007773   \n",
       "total_nights                                    0.018719   \n",
       "\n",
       "                                arrival_date_day_of_month  \\\n",
       "hotel                                           -0.001862   \n",
       "is_canceled                                     -0.006130   \n",
       "lead_time                                        0.002268   \n",
       "arrival_date_year                               -0.000221   \n",
       "arrival_date_month                              -0.026063   \n",
       "arrival_date_week_number                         0.066809   \n",
       "arrival_date_day_of_month                        1.000000   \n",
       "stays_in_weekend_nights                         -0.016354   \n",
       "stays_in_week_nights                            -0.028174   \n",
       "meal                                            -0.007086   \n",
       "market_segment                                  -0.004088   \n",
       "distribution_channel                             0.001578   \n",
       "is_repeated_guest                               -0.006145   \n",
       "previous_cancellations                          -0.027011   \n",
       "previous_bookings_not_canceled                  -0.000300   \n",
       "reserved_room_type                               0.016929   \n",
       "assigned_room_type                               0.011646   \n",
       "booking_changes                                  0.010613   \n",
       "agent                                           -0.002271   \n",
       "days_in_waiting_list                             0.022728   \n",
       "customer_type                                    0.012188   \n",
       "adr                                              0.030245   \n",
       "required_car_parking_spaces                      0.008683   \n",
       "total_of_special_requests                        0.003062   \n",
       "reservation_status                               0.011460   \n",
       "is_family                                        0.014710   \n",
       "total_customer                                   0.006742   \n",
       "deposit_given                                   -0.008616   \n",
       "total_nights                                    -0.027408   \n",
       "\n",
       "                                stays_in_weekend_nights  stays_in_week_nights  \\\n",
       "hotel                                         -0.186596             -0.234020   \n",
       "is_canceled                                   -0.001791              0.024765   \n",
       "lead_time                                      0.085671              0.165799   \n",
       "arrival_date_year                              0.021497              0.030883   \n",
       "arrival_date_month                             0.018440              0.019212   \n",
       "arrival_date_week_number                       0.018208              0.015558   \n",
       "arrival_date_day_of_month                     -0.016354             -0.028174   \n",
       "stays_in_weekend_nights                        1.000000              0.498969   \n",
       "stays_in_week_nights                           0.498969              1.000000   \n",
       "meal                                           0.045744              0.036742   \n",
       "market_segment                                 0.115350              0.108569   \n",
       "distribution_channel                           0.093097              0.087185   \n",
       "is_repeated_guest                             -0.087239             -0.097245   \n",
       "previous_cancellations                        -0.012775             -0.013992   \n",
       "previous_bookings_not_canceled                -0.042715             -0.048743   \n",
       "reserved_room_type                             0.142083              0.168616   \n",
       "assigned_room_type                             0.086643              0.100795   \n",
       "booking_changes                                0.063281              0.096209   \n",
       "agent                                         -0.110284             -0.110354   \n",
       "days_in_waiting_list                          -0.054151             -0.002020   \n",
       "customer_type                                 -0.109220             -0.127223   \n",
       "adr                                            0.049342              0.065237   \n",
       "required_car_parking_spaces                   -0.018554             -0.024859   \n",
       "total_of_special_requests                      0.072671              0.068192   \n",
       "reservation_status                             0.008558             -0.021607   \n",
       "is_family                                      0.052306              0.050424   \n",
       "total_customer                                 0.101426              0.101665   \n",
       "deposit_given                                 -0.114275             -0.079999   \n",
       "total_nights                                   0.762790              0.941005   \n",
       "\n",
       "                                    meal  ...  days_in_waiting_list  \\\n",
       "hotel                           0.008018  ...              0.072432   \n",
       "is_canceled                    -0.017678  ...              0.054186   \n",
       "lead_time                       0.000349  ...              0.170084   \n",
       "arrival_date_year               0.065840  ...             -0.056497   \n",
       "arrival_date_month             -0.015205  ...              0.019045   \n",
       "arrival_date_week_number       -0.017381  ...              0.022933   \n",
       "arrival_date_day_of_month      -0.007086  ...              0.022728   \n",
       "stays_in_weekend_nights         0.045744  ...             -0.054151   \n",
       "stays_in_week_nights            0.036742  ...             -0.002020   \n",
       "meal                            1.000000  ...             -0.007132   \n",
       "market_segment                  0.145132  ...             -0.041503   \n",
       "distribution_channel            0.116957  ...              0.048642   \n",
       "is_repeated_guest              -0.057009  ...             -0.022235   \n",
       "previous_cancellations         -0.003772  ...              0.005929   \n",
       "previous_bookings_not_canceled -0.040417  ...             -0.009397   \n",
       "reserved_room_type             -0.120749  ...             -0.068821   \n",
       "assigned_room_type             -0.120792  ...             -0.068676   \n",
       "booking_changes                 0.024650  ...             -0.011634   \n",
       "agent                          -0.095428  ...             -0.039667   \n",
       "days_in_waiting_list           -0.007132  ...              1.000000   \n",
       "customer_type                   0.044658  ...              0.099121   \n",
       "adr                             0.059098  ...             -0.040756   \n",
       "required_car_parking_spaces    -0.038923  ...             -0.030600   \n",
       "total_of_special_requests       0.023136  ...             -0.082730   \n",
       "reservation_status              0.015393  ...             -0.057927   \n",
       "is_family                      -0.041727  ...             -0.036312   \n",
       "total_customer                 -0.005975  ...             -0.026431   \n",
       "deposit_given                  -0.090725  ...              0.120249   \n",
       "total_nights                    0.045277  ...             -0.022652   \n",
       "\n",
       "                                customer_type       adr  \\\n",
       "hotel                                0.047531  0.096719   \n",
       "is_canceled                         -0.068140  0.047557   \n",
       "lead_time                            0.073403 -0.063077   \n",
       "arrival_date_year                   -0.006149  0.197580   \n",
       "arrival_date_month                  -0.029753  0.079315   \n",
       "arrival_date_week_number            -0.028432  0.075791   \n",
       "arrival_date_day_of_month            0.012188  0.030245   \n",
       "stays_in_weekend_nights             -0.109220  0.049342   \n",
       "stays_in_week_nights                -0.127223  0.065237   \n",
       "meal                                 0.044658  0.059098   \n",
       "market_segment                      -0.165814  0.232763   \n",
       "distribution_channel                -0.069640  0.092396   \n",
       "is_repeated_guest                   -0.017111 -0.134314   \n",
       "previous_cancellations              -0.008188 -0.065646   \n",
       "previous_bookings_not_canceled      -0.012259 -0.072144   \n",
       "reserved_room_type                  -0.120978  0.392060   \n",
       "assigned_room_type                  -0.084427  0.258134   \n",
       "booking_changes                      0.092029  0.019618   \n",
       "agent                                0.066095 -0.126407   \n",
       "days_in_waiting_list                 0.099121 -0.040756   \n",
       "customer_type                        1.000000 -0.077155   \n",
       "adr                                 -0.077155  1.000000   \n",
       "required_car_parking_spaces         -0.030060  0.056628   \n",
       "total_of_special_requests           -0.135624  0.172185   \n",
       "reservation_status                   0.066004 -0.050520   \n",
       "is_family                           -0.060139  0.309360   \n",
       "total_customer                      -0.113232  0.368105   \n",
       "deposit_given                       -0.086745 -0.087608   \n",
       "total_nights                        -0.137577  0.067945   \n",
       "\n",
       "                                required_car_parking_spaces  \\\n",
       "hotel                                             -0.218873   \n",
       "is_canceled                                       -0.195498   \n",
       "lead_time                                         -0.116451   \n",
       "arrival_date_year                                 -0.013684   \n",
       "arrival_date_month                                 0.000257   \n",
       "arrival_date_week_number                           0.001920   \n",
       "arrival_date_day_of_month                          0.008683   \n",
       "stays_in_weekend_nights                           -0.018554   \n",
       "stays_in_week_nights                              -0.024859   \n",
       "meal                                              -0.038923   \n",
       "market_segment                                    -0.062226   \n",
       "distribution_channel                              -0.132280   \n",
       "is_repeated_guest                                  0.077090   \n",
       "previous_cancellations                            -0.018492   \n",
       "previous_bookings_not_canceled                     0.047653   \n",
       "reserved_room_type                                 0.131583   \n",
       "assigned_room_type                                 0.160131   \n",
       "booking_changes                                    0.065620   \n",
       "agent                                              0.113648   \n",
       "days_in_waiting_list                              -0.030600   \n",
       "customer_type                                     -0.030060   \n",
       "adr                                                0.056628   \n",
       "required_car_parking_spaces                        1.000000   \n",
       "total_of_special_requests                          0.082626   \n",
       "reservation_status                                 0.179310   \n",
       "is_family                                          0.069141   \n",
       "total_customer                                     0.047934   \n",
       "deposit_given                                     -0.094982   \n",
       "total_nights                                      -0.025794   \n",
       "\n",
       "                                total_of_special_requests  reservation_status  \\\n",
       "hotel                                           -0.043390           -0.124331   \n",
       "is_canceled                                     -0.234658           -0.917196   \n",
       "lead_time                                       -0.095712           -0.302175   \n",
       "arrival_date_year                                0.108531           -0.017683   \n",
       "arrival_date_month                               0.028026           -0.021090   \n",
       "arrival_date_week_number                         0.026149           -0.017387   \n",
       "arrival_date_day_of_month                        0.003062            0.011460   \n",
       "stays_in_weekend_nights                          0.072671            0.008558   \n",
       "stays_in_week_nights                             0.068192           -0.021607   \n",
       "meal                                             0.023136            0.015393   \n",
       "market_segment                                   0.274373           -0.061584   \n",
       "distribution_channel                             0.098815           -0.171330   \n",
       "is_repeated_guest                                0.013050            0.083504   \n",
       "previous_cancellations                          -0.048384           -0.110758   \n",
       "previous_bookings_not_canceled                   0.037824            0.055051   \n",
       "reserved_room_type                               0.137466            0.058693   \n",
       "assigned_room_type                               0.124683            0.172537   \n",
       "booking_changes                                  0.052833            0.140799   \n",
       "agent                                           -0.085429            0.123264   \n",
       "days_in_waiting_list                            -0.082730           -0.057927   \n",
       "customer_type                                   -0.135624            0.066004   \n",
       "adr                                              0.172185           -0.050520   \n",
       "required_car_parking_spaces                      0.082626            0.179310   \n",
       "total_of_special_requests                        1.000000            0.225674   \n",
       "reservation_status                               0.225674            1.000000   \n",
       "is_family                                        0.128205            0.013117   \n",
       "total_customer                                   0.156834           -0.055273   \n",
       "deposit_given                                   -0.268034           -0.478747   \n",
       "total_nights                                     0.079259           -0.012781   \n",
       "\n",
       "                                is_family  total_customer  deposit_given  \\\n",
       "hotel                           -0.058306       -0.040821       0.172003   \n",
       "is_canceled                     -0.013010        0.046522       0.481457   \n",
       "lead_time                       -0.043972        0.072265       0.380179   \n",
       "arrival_date_year                0.052711        0.052127      -0.065963   \n",
       "arrival_date_month               0.010427        0.027252       0.008746   \n",
       "arrival_date_week_number         0.010611        0.025220       0.007773   \n",
       "arrival_date_day_of_month        0.014710        0.006742      -0.008616   \n",
       "stays_in_weekend_nights          0.052306        0.101426      -0.114275   \n",
       "stays_in_week_nights             0.050424        0.101665      -0.079999   \n",
       "meal                            -0.041727       -0.005975      -0.090725   \n",
       "market_segment                   0.080450        0.213221      -0.183880   \n",
       "distribution_channel             0.000464        0.144357       0.102548   \n",
       "is_repeated_guest               -0.035127       -0.136748      -0.058423   \n",
       "previous_cancellations          -0.027262       -0.020058       0.143314   \n",
       "previous_bookings_not_canceled  -0.022815       -0.099097      -0.031509   \n",
       "reserved_room_type               0.323910        0.383357      -0.201348   \n",
       "assigned_room_type               0.292940        0.302422      -0.246602   \n",
       "booking_changes                  0.079121       -0.003173      -0.119333   \n",
       "agent                           -0.032656       -0.155423      -0.013898   \n",
       "days_in_waiting_list            -0.036312       -0.026431       0.120249   \n",
       "customer_type                   -0.060139       -0.113232      -0.086745   \n",
       "adr                              0.309360        0.368105      -0.087608   \n",
       "required_car_parking_spaces      0.069141        0.047934      -0.094982   \n",
       "total_of_special_requests        0.128205        0.156834      -0.268034   \n",
       "reservation_status               0.013117       -0.055273      -0.478747   \n",
       "is_family                        1.000000        0.579899      -0.106643   \n",
       "total_customer                   0.579899        1.000000      -0.080676   \n",
       "deposit_given                   -0.106643       -0.080676       1.000000   \n",
       "total_nights                     0.058049        0.115463      -0.104314   \n",
       "\n",
       "                                total_nights  \n",
       "hotel                              -0.247479  \n",
       "is_canceled                         0.017779  \n",
       "lead_time                           0.157167  \n",
       "arrival_date_year                   0.031438  \n",
       "arrival_date_month                  0.021536  \n",
       "arrival_date_week_number            0.018719  \n",
       "arrival_date_day_of_month          -0.027408  \n",
       "stays_in_weekend_nights             0.762790  \n",
       "stays_in_week_nights                0.941005  \n",
       "meal                                0.045277  \n",
       "market_segment                      0.126052  \n",
       "distribution_channel                0.101407  \n",
       "is_repeated_guest                  -0.106626  \n",
       "previous_cancellations             -0.015429  \n",
       "previous_bookings_not_canceled     -0.053049  \n",
       "reserved_room_type                  0.181296  \n",
       "assigned_room_type                  0.109042  \n",
       "booking_changes                     0.096498  \n",
       "agent                              -0.125406  \n",
       "days_in_waiting_list               -0.022652  \n",
       "customer_type                      -0.137577  \n",
       "adr                                 0.067945  \n",
       "required_car_parking_spaces        -0.025794  \n",
       "total_of_special_requests           0.079259  \n",
       "reservation_status                 -0.012781  \n",
       "is_family                           0.058049  \n",
       "total_customer                      0.115463  \n",
       "deposit_given                      -0.104314  \n",
       "total_nights                        1.000000  \n",
       "\n",
       "[29 rows x 29 columns]"
      ]
     },
     "execution_count": 44,
     "metadata": {},
     "output_type": "execute_result"
    }
   ],
   "source": [
    "cor_data.corr()\n",
    "#plt.subplots(figsize=(14,5))\n",
    "#sns.heatmap(abc)\n",
    "\n"
   ]
  },
  {
   "cell_type": "code",
   "execution_count": 45,
   "metadata": {},
   "outputs": [
    {
     "data": {
      "text/plain": [
       "reservation_status               -0.917196\n",
       "total_of_special_requests        -0.234658\n",
       "required_car_parking_spaces      -0.195498\n",
       "assigned_room_type               -0.176028\n",
       "booking_changes                  -0.144381\n",
       "agent                            -0.127883\n",
       "is_repeated_guest                -0.084793\n",
       "customer_type                    -0.068140\n",
       "reserved_room_type               -0.061282\n",
       "previous_bookings_not_canceled   -0.057358\n",
       "meal                             -0.017678\n",
       "is_family                        -0.013010\n",
       "arrival_date_day_of_month        -0.006130\n",
       "stays_in_weekend_nights          -0.001791\n",
       "arrival_date_week_number          0.008148\n",
       "arrival_date_month                0.011022\n",
       "arrival_date_year                 0.016660\n",
       "total_nights                      0.017779\n",
       "stays_in_week_nights              0.024765\n",
       "total_customer                    0.046522\n",
       "adr                               0.047557\n",
       "days_in_waiting_list              0.054186\n",
       "market_segment                    0.059338\n",
       "previous_cancellations            0.110133\n",
       "hotel                             0.136531\n",
       "distribution_channel              0.167600\n",
       "lead_time                         0.293123\n",
       "deposit_given                     0.481457\n",
       "is_canceled                       1.000000\n",
       "Name: is_canceled, dtype: float64"
      ]
     },
     "execution_count": 45,
     "metadata": {},
     "output_type": "execute_result"
    }
   ],
   "source": [
    "cor_data.corr()[\"is_canceled\"].sort_values()\n",
    "\n"
   ]
  },
  {
   "cell_type": "markdown",
   "metadata": {},
   "source": [
    "As we can see in the sorted list, reservation_status seems to be most impactful feature. With that information accuracy rate should be really high. It can be better to drop reservation_status column to see how other features can predict.\n",
    "\n",
    "I am going to try both.\n",
    "\n",
    "Impacts of three feature that are created:\n",
    "\n",
    "1. deposit_given = 0,48131\n",
    "2. is_family = -0,01327\n",
    "3. total_customer = 0,04504\n",
    "\n",
    "Apart from that, I will not use arrival_date_week_number, stays_in_weekend_nights and arrival_date_day_of_month since their importances are really low while predicting cancellations.\n",
    "\n",
    "Also, still we have some missing values in agent column. It has nice importance on predicting cancellation but since the missing values are equal to 13% of the total data it is better to drop that column. It has a lot of class inside of it otherwise we could try predicting missing values but they may misguide the predictions."
   ]
  },
  {
   "cell_type": "code",
   "execution_count": 46,
   "metadata": {},
   "outputs": [
    {
     "data": {
      "text/plain": [
       "hotel                            -0.234020\n",
       "is_canceled                       0.024765\n",
       "lead_time                         0.165799\n",
       "arrival_date_year                 0.030883\n",
       "arrival_date_month                0.019212\n",
       "arrival_date_week_number          0.015558\n",
       "arrival_date_day_of_month        -0.028174\n",
       "stays_in_weekend_nights           0.498969\n",
       "stays_in_week_nights              1.000000\n",
       "meal                              0.036742\n",
       "market_segment                    0.108569\n",
       "distribution_channel              0.087185\n",
       "is_repeated_guest                -0.097245\n",
       "previous_cancellations           -0.013992\n",
       "previous_bookings_not_canceled   -0.048743\n",
       "reserved_room_type                0.168616\n",
       "assigned_room_type                0.100795\n",
       "booking_changes                   0.096209\n",
       "agent                            -0.110354\n",
       "days_in_waiting_list             -0.002020\n",
       "customer_type                    -0.127223\n",
       "adr                               0.065237\n",
       "required_car_parking_spaces      -0.024859\n",
       "total_of_special_requests         0.068192\n",
       "reservation_status               -0.021607\n",
       "is_family                         0.050424\n",
       "total_customer                    0.101665\n",
       "deposit_given                    -0.079999\n",
       "total_nights                      0.941005\n",
       "Name: stays_in_week_nights, dtype: float64"
      ]
     },
     "execution_count": 46,
     "metadata": {},
     "output_type": "execute_result"
    }
   ],
   "source": [
    "# It is highly correlated to total_nights and also there is no much difference impact, so I will not use total_nights.\n",
    "# Week nights have higher impact.\n",
    "\"\"\"\n",
    "Actually, I tried some models by using different features as (only total_nights | weekend_nights and week_nights | only week_nights ...) \n",
    "and the models using only week nights seems to have a bit higher accuracy score. \n",
    "\"\"\"\n",
    "\n",
    "cor_data.corr()['stays_in_week_nights']"
   ]
  },
  {
   "cell_type": "code",
   "execution_count": 47,
   "metadata": {},
   "outputs": [],
   "source": [
    "cor_data = cor_data.drop(columns = ['total_nights', 'arrival_date_week_number', 'stays_in_weekend_nights', 'arrival_date_month', 'agent'], axis = 1)"
   ]
  },
  {
   "cell_type": "markdown",
   "metadata": {},
   "source": [
    "## Since we have decided what to do with features and missing values, we can work on first data."
   ]
  },
  {
   "cell_type": "code",
   "execution_count": 48,
   "metadata": {},
   "outputs": [
    {
     "data": {
      "text/plain": [
       "False    118902\n",
       "True        488\n",
       "Name: country, dtype: int64"
      ]
     },
     "execution_count": 48,
     "metadata": {},
     "output_type": "execute_result"
    }
   ],
   "source": [
    "pd.isna(cor_data[\"country\"]).value_counts()\n",
    "\n"
   ]
  },
  {
   "cell_type": "code",
   "execution_count": 49,
   "metadata": {},
   "outputs": [
    {
     "data": {
      "text/html": [
       "<div>\n",
       "<style scoped>\n",
       "    .dataframe tbody tr th:only-of-type {\n",
       "        vertical-align: middle;\n",
       "    }\n",
       "\n",
       "    .dataframe tbody tr th {\n",
       "        vertical-align: top;\n",
       "    }\n",
       "\n",
       "    .dataframe thead th {\n",
       "        text-align: right;\n",
       "    }\n",
       "</style>\n",
       "<table border=\"1\" class=\"dataframe\">\n",
       "  <thead>\n",
       "    <tr style=\"text-align: right;\">\n",
       "      <th></th>\n",
       "      <th>hotel</th>\n",
       "      <th>is_canceled</th>\n",
       "      <th>lead_time</th>\n",
       "      <th>arrival_date_year</th>\n",
       "      <th>arrival_date_day_of_month</th>\n",
       "      <th>stays_in_week_nights</th>\n",
       "      <th>meal</th>\n",
       "      <th>country</th>\n",
       "      <th>market_segment</th>\n",
       "      <th>distribution_channel</th>\n",
       "      <th>...</th>\n",
       "      <th>booking_changes</th>\n",
       "      <th>days_in_waiting_list</th>\n",
       "      <th>customer_type</th>\n",
       "      <th>adr</th>\n",
       "      <th>required_car_parking_spaces</th>\n",
       "      <th>total_of_special_requests</th>\n",
       "      <th>reservation_status</th>\n",
       "      <th>is_family</th>\n",
       "      <th>total_customer</th>\n",
       "      <th>deposit_given</th>\n",
       "    </tr>\n",
       "  </thead>\n",
       "  <tbody>\n",
       "    <tr>\n",
       "      <td>30</td>\n",
       "      <td>0</td>\n",
       "      <td>0</td>\n",
       "      <td>118</td>\n",
       "      <td>2015</td>\n",
       "      <td>1</td>\n",
       "      <td>10</td>\n",
       "      <td>0</td>\n",
       "      <td>NaN</td>\n",
       "      <td>3</td>\n",
       "      <td>1</td>\n",
       "      <td>...</td>\n",
       "      <td>2</td>\n",
       "      <td>0</td>\n",
       "      <td>2</td>\n",
       "      <td>62.0</td>\n",
       "      <td>0</td>\n",
       "      <td>2</td>\n",
       "      <td>1</td>\n",
       "      <td>0</td>\n",
       "      <td>1.0</td>\n",
       "      <td>0</td>\n",
       "    </tr>\n",
       "    <tr>\n",
       "      <td>4127</td>\n",
       "      <td>0</td>\n",
       "      <td>1</td>\n",
       "      <td>0</td>\n",
       "      <td>2016</td>\n",
       "      <td>15</td>\n",
       "      <td>0</td>\n",
       "      <td>3</td>\n",
       "      <td>NaN</td>\n",
       "      <td>5</td>\n",
       "      <td>3</td>\n",
       "      <td>...</td>\n",
       "      <td>0</td>\n",
       "      <td>0</td>\n",
       "      <td>2</td>\n",
       "      <td>0.0</td>\n",
       "      <td>0</td>\n",
       "      <td>0</td>\n",
       "      <td>0</td>\n",
       "      <td>0</td>\n",
       "      <td>0.0</td>\n",
       "      <td>0</td>\n",
       "    </tr>\n",
       "    <tr>\n",
       "      <td>7092</td>\n",
       "      <td>0</td>\n",
       "      <td>1</td>\n",
       "      <td>8</td>\n",
       "      <td>2016</td>\n",
       "      <td>21</td>\n",
       "      <td>1</td>\n",
       "      <td>0</td>\n",
       "      <td>NaN</td>\n",
       "      <td>2</td>\n",
       "      <td>0</td>\n",
       "      <td>...</td>\n",
       "      <td>0</td>\n",
       "      <td>0</td>\n",
       "      <td>2</td>\n",
       "      <td>73.0</td>\n",
       "      <td>0</td>\n",
       "      <td>2</td>\n",
       "      <td>0</td>\n",
       "      <td>0</td>\n",
       "      <td>1.0</td>\n",
       "      <td>0</td>\n",
       "    </tr>\n",
       "    <tr>\n",
       "      <td>7860</td>\n",
       "      <td>0</td>\n",
       "      <td>1</td>\n",
       "      <td>39</td>\n",
       "      <td>2016</td>\n",
       "      <td>30</td>\n",
       "      <td>5</td>\n",
       "      <td>2</td>\n",
       "      <td>NaN</td>\n",
       "      <td>3</td>\n",
       "      <td>1</td>\n",
       "      <td>...</td>\n",
       "      <td>0</td>\n",
       "      <td>0</td>\n",
       "      <td>2</td>\n",
       "      <td>159.0</td>\n",
       "      <td>0</td>\n",
       "      <td>5</td>\n",
       "      <td>0</td>\n",
       "      <td>0</td>\n",
       "      <td>2.0</td>\n",
       "      <td>0</td>\n",
       "    </tr>\n",
       "    <tr>\n",
       "      <td>8779</td>\n",
       "      <td>0</td>\n",
       "      <td>1</td>\n",
       "      <td>0</td>\n",
       "      <td>2016</td>\n",
       "      <td>13</td>\n",
       "      <td>1</td>\n",
       "      <td>0</td>\n",
       "      <td>NaN</td>\n",
       "      <td>2</td>\n",
       "      <td>0</td>\n",
       "      <td>...</td>\n",
       "      <td>0</td>\n",
       "      <td>0</td>\n",
       "      <td>2</td>\n",
       "      <td>50.0</td>\n",
       "      <td>0</td>\n",
       "      <td>0</td>\n",
       "      <td>0</td>\n",
       "      <td>0</td>\n",
       "      <td>1.0</td>\n",
       "      <td>0</td>\n",
       "    </tr>\n",
       "    <tr>\n",
       "      <td>...</td>\n",
       "      <td>...</td>\n",
       "      <td>...</td>\n",
       "      <td>...</td>\n",
       "      <td>...</td>\n",
       "      <td>...</td>\n",
       "      <td>...</td>\n",
       "      <td>...</td>\n",
       "      <td>...</td>\n",
       "      <td>...</td>\n",
       "      <td>...</td>\n",
       "      <td>...</td>\n",
       "      <td>...</td>\n",
       "      <td>...</td>\n",
       "      <td>...</td>\n",
       "      <td>...</td>\n",
       "      <td>...</td>\n",
       "      <td>...</td>\n",
       "      <td>...</td>\n",
       "      <td>...</td>\n",
       "      <td>...</td>\n",
       "      <td>...</td>\n",
       "    </tr>\n",
       "    <tr>\n",
       "      <td>65908</td>\n",
       "      <td>1</td>\n",
       "      <td>1</td>\n",
       "      <td>0</td>\n",
       "      <td>2017</td>\n",
       "      <td>10</td>\n",
       "      <td>0</td>\n",
       "      <td>3</td>\n",
       "      <td>NaN</td>\n",
       "      <td>1</td>\n",
       "      <td>0</td>\n",
       "      <td>...</td>\n",
       "      <td>0</td>\n",
       "      <td>0</td>\n",
       "      <td>2</td>\n",
       "      <td>0.0</td>\n",
       "      <td>0</td>\n",
       "      <td>0</td>\n",
       "      <td>0</td>\n",
       "      <td>0</td>\n",
       "      <td>0.0</td>\n",
       "      <td>0</td>\n",
       "    </tr>\n",
       "    <tr>\n",
       "      <td>65909</td>\n",
       "      <td>1</td>\n",
       "      <td>1</td>\n",
       "      <td>0</td>\n",
       "      <td>2017</td>\n",
       "      <td>10</td>\n",
       "      <td>0</td>\n",
       "      <td>3</td>\n",
       "      <td>NaN</td>\n",
       "      <td>1</td>\n",
       "      <td>0</td>\n",
       "      <td>...</td>\n",
       "      <td>0</td>\n",
       "      <td>0</td>\n",
       "      <td>2</td>\n",
       "      <td>0.0</td>\n",
       "      <td>0</td>\n",
       "      <td>0</td>\n",
       "      <td>0</td>\n",
       "      <td>0</td>\n",
       "      <td>0.0</td>\n",
       "      <td>0</td>\n",
       "    </tr>\n",
       "    <tr>\n",
       "      <td>65910</td>\n",
       "      <td>1</td>\n",
       "      <td>1</td>\n",
       "      <td>0</td>\n",
       "      <td>2017</td>\n",
       "      <td>10</td>\n",
       "      <td>0</td>\n",
       "      <td>3</td>\n",
       "      <td>NaN</td>\n",
       "      <td>1</td>\n",
       "      <td>0</td>\n",
       "      <td>...</td>\n",
       "      <td>0</td>\n",
       "      <td>0</td>\n",
       "      <td>2</td>\n",
       "      <td>0.0</td>\n",
       "      <td>0</td>\n",
       "      <td>0</td>\n",
       "      <td>0</td>\n",
       "      <td>0</td>\n",
       "      <td>0.0</td>\n",
       "      <td>0</td>\n",
       "    </tr>\n",
       "    <tr>\n",
       "      <td>80830</td>\n",
       "      <td>1</td>\n",
       "      <td>0</td>\n",
       "      <td>4</td>\n",
       "      <td>2015</td>\n",
       "      <td>23</td>\n",
       "      <td>2</td>\n",
       "      <td>0</td>\n",
       "      <td>NaN</td>\n",
       "      <td>4</td>\n",
       "      <td>3</td>\n",
       "      <td>...</td>\n",
       "      <td>0</td>\n",
       "      <td>0</td>\n",
       "      <td>3</td>\n",
       "      <td>70.0</td>\n",
       "      <td>0</td>\n",
       "      <td>0</td>\n",
       "      <td>1</td>\n",
       "      <td>0</td>\n",
       "      <td>1.0</td>\n",
       "      <td>0</td>\n",
       "    </tr>\n",
       "    <tr>\n",
       "      <td>101488</td>\n",
       "      <td>1</td>\n",
       "      <td>0</td>\n",
       "      <td>1</td>\n",
       "      <td>2016</td>\n",
       "      <td>13</td>\n",
       "      <td>2</td>\n",
       "      <td>0</td>\n",
       "      <td>NaN</td>\n",
       "      <td>3</td>\n",
       "      <td>1</td>\n",
       "      <td>...</td>\n",
       "      <td>0</td>\n",
       "      <td>0</td>\n",
       "      <td>1</td>\n",
       "      <td>105.0</td>\n",
       "      <td>0</td>\n",
       "      <td>1</td>\n",
       "      <td>1</td>\n",
       "      <td>0</td>\n",
       "      <td>2.0</td>\n",
       "      <td>0</td>\n",
       "    </tr>\n",
       "  </tbody>\n",
       "</table>\n",
       "<p>488 rows × 25 columns</p>\n",
       "</div>"
      ],
      "text/plain": [
       "        hotel  is_canceled  lead_time  arrival_date_year  \\\n",
       "30          0            0        118               2015   \n",
       "4127        0            1          0               2016   \n",
       "7092        0            1          8               2016   \n",
       "7860        0            1         39               2016   \n",
       "8779        0            1          0               2016   \n",
       "...       ...          ...        ...                ...   \n",
       "65908       1            1          0               2017   \n",
       "65909       1            1          0               2017   \n",
       "65910       1            1          0               2017   \n",
       "80830       1            0          4               2015   \n",
       "101488      1            0          1               2016   \n",
       "\n",
       "        arrival_date_day_of_month  stays_in_week_nights  meal country  \\\n",
       "30                              1                    10     0     NaN   \n",
       "4127                           15                     0     3     NaN   \n",
       "7092                           21                     1     0     NaN   \n",
       "7860                           30                     5     2     NaN   \n",
       "8779                           13                     1     0     NaN   \n",
       "...                           ...                   ...   ...     ...   \n",
       "65908                          10                     0     3     NaN   \n",
       "65909                          10                     0     3     NaN   \n",
       "65910                          10                     0     3     NaN   \n",
       "80830                          23                     2     0     NaN   \n",
       "101488                         13                     2     0     NaN   \n",
       "\n",
       "        market_segment  distribution_channel  ...  booking_changes  \\\n",
       "30                   3                     1  ...                2   \n",
       "4127                 5                     3  ...                0   \n",
       "7092                 2                     0  ...                0   \n",
       "7860                 3                     1  ...                0   \n",
       "8779                 2                     0  ...                0   \n",
       "...                ...                   ...  ...              ...   \n",
       "65908                1                     0  ...                0   \n",
       "65909                1                     0  ...                0   \n",
       "65910                1                     0  ...                0   \n",
       "80830                4                     3  ...                0   \n",
       "101488               3                     1  ...                0   \n",
       "\n",
       "        days_in_waiting_list  customer_type    adr  \\\n",
       "30                         0              2   62.0   \n",
       "4127                       0              2    0.0   \n",
       "7092                       0              2   73.0   \n",
       "7860                       0              2  159.0   \n",
       "8779                       0              2   50.0   \n",
       "...                      ...            ...    ...   \n",
       "65908                      0              2    0.0   \n",
       "65909                      0              2    0.0   \n",
       "65910                      0              2    0.0   \n",
       "80830                      0              3   70.0   \n",
       "101488                     0              1  105.0   \n",
       "\n",
       "        required_car_parking_spaces  total_of_special_requests  \\\n",
       "30                                0                          2   \n",
       "4127                              0                          0   \n",
       "7092                              0                          2   \n",
       "7860                              0                          5   \n",
       "8779                              0                          0   \n",
       "...                             ...                        ...   \n",
       "65908                             0                          0   \n",
       "65909                             0                          0   \n",
       "65910                             0                          0   \n",
       "80830                             0                          0   \n",
       "101488                            0                          1   \n",
       "\n",
       "        reservation_status  is_family  total_customer  deposit_given  \n",
       "30                       1          0             1.0              0  \n",
       "4127                     0          0             0.0              0  \n",
       "7092                     0          0             1.0              0  \n",
       "7860                     0          0             2.0              0  \n",
       "8779                     0          0             1.0              0  \n",
       "...                    ...        ...             ...            ...  \n",
       "65908                    0          0             0.0              0  \n",
       "65909                    0          0             0.0              0  \n",
       "65910                    0          0             0.0              0  \n",
       "80830                    1          0             1.0              0  \n",
       "101488                   1          0             2.0              0  \n",
       "\n",
       "[488 rows x 25 columns]"
      ]
     },
     "execution_count": 49,
     "metadata": {},
     "output_type": "execute_result"
    }
   ],
   "source": [
    "cor_data.loc[pd.isna(cor_data[\"country\"]),:]\n",
    "\n"
   ]
  },
  {
   "cell_type": "code",
   "execution_count": 50,
   "metadata": {},
   "outputs": [
    {
     "data": {
      "text/plain": [
       "Int64Index([    30,   4127,   7092,   7860,   8779,   9376,   9610,   9612,\n",
       "             11262,  11263,\n",
       "            ...\n",
       "             60651,  61244,  61245,  61249,  65907,  65908,  65909,  65910,\n",
       "             80830, 101488],\n",
       "           dtype='int64', length=488)"
      ]
     },
     "execution_count": 50,
     "metadata": {},
     "output_type": "execute_result"
    }
   ],
   "source": [
    "cor_data.loc[pd.isna(cor_data[\"country\"]),:].index\n",
    "\n"
   ]
  },
  {
   "cell_type": "code",
   "execution_count": 51,
   "metadata": {},
   "outputs": [
    {
     "data": {
      "text/plain": [
       "hotel                             0\n",
       "is_canceled                       0\n",
       "lead_time                         0\n",
       "arrival_date_year                 0\n",
       "arrival_date_day_of_month         0\n",
       "stays_in_week_nights              0\n",
       "meal                              0\n",
       "country                           0\n",
       "market_segment                    0\n",
       "distribution_channel              0\n",
       "is_repeated_guest                 0\n",
       "previous_cancellations            0\n",
       "previous_bookings_not_canceled    0\n",
       "reserved_room_type                0\n",
       "assigned_room_type                0\n",
       "booking_changes                   0\n",
       "days_in_waiting_list              0\n",
       "customer_type                     0\n",
       "adr                               0\n",
       "required_car_parking_spaces       0\n",
       "total_of_special_requests         0\n",
       "reservation_status                0\n",
       "is_family                         0\n",
       "total_customer                    0\n",
       "deposit_given                     0\n",
       "dtype: int64"
      ]
     },
     "execution_count": 51,
     "metadata": {},
     "output_type": "execute_result"
    }
   ],
   "source": [
    "#Lets delete the NA rows of country column\n",
    "indices = cor_data.loc[pd.isna(cor_data[\"country\"]),:].index \n",
    "cor_data = cor_data.drop(cor_data.index[indices])   \n",
    "cor_data.isnull().sum()\n",
    "\n",
    "#There is no missing value in the data\n",
    "\n"
   ]
  },
  {
   "cell_type": "markdown",
   "metadata": {},
   "source": [
    "# Since we have decided what to do with features and missing values, we can work on first data."
   ]
  },
  {
   "cell_type": "code",
   "execution_count": 52,
   "metadata": {},
   "outputs": [],
   "source": [
    "indices = data.loc[pd.isna(data['country']),:].index\n",
    "data =data.drop(data.index[indices])\n",
    "data = data.drop(columns = ['arrival_date_week_number', 'stays_in_weekend_nights', 'arrival_date_month', 'agent'], axis = 1)"
   ]
  },
  {
   "cell_type": "code",
   "execution_count": 53,
   "metadata": {},
   "outputs": [
    {
     "data": {
      "text/plain": [
       "Index(['hotel', 'is_canceled', 'lead_time', 'arrival_date_year',\n",
       "       'arrival_date_day_of_month', 'stays_in_week_nights', 'meal', 'country',\n",
       "       'market_segment', 'distribution_channel', 'is_repeated_guest',\n",
       "       'previous_cancellations', 'previous_bookings_not_canceled',\n",
       "       'reserved_room_type', 'assigned_room_type', 'booking_changes',\n",
       "       'days_in_waiting_list', 'customer_type', 'adr',\n",
       "       'required_car_parking_spaces', 'total_of_special_requests',\n",
       "       'reservation_status', 'is_family', 'total_customer', 'deposit_given',\n",
       "       'total_nights'],\n",
       "      dtype='object')"
      ]
     },
     "execution_count": 53,
     "metadata": {},
     "output_type": "execute_result"
    }
   ],
   "source": [
    "data.columns\n"
   ]
  },
  {
   "cell_type": "code",
   "execution_count": 54,
   "metadata": {},
   "outputs": [],
   "source": [
    "#Make a Copy of data in case of any changes on features\n",
    "df1 = data.copy()\n"
   ]
  },
  {
   "cell_type": "code",
   "execution_count": 55,
   "metadata": {},
   "outputs": [],
   "source": [
    "#One Hot Encoding\n",
    "df1 = pd.get_dummies(data=df1,columns = ['meal','market_segment','distribution_channel','reserved_room_type','assigned_room_type','customer_type','reservation_status'])"
   ]
  },
  {
   "cell_type": "code",
   "execution_count": 56,
   "metadata": {},
   "outputs": [
    {
     "data": {
      "text/plain": [
       "PRT    48590\n",
       "GBR    12129\n",
       "FRA    10415\n",
       "ESP     8568\n",
       "DEU     7287\n",
       "       ...  \n",
       "MLI        1\n",
       "NCL        1\n",
       "NIC        1\n",
       "PLW        1\n",
       "NAM        1\n",
       "Name: country, Length: 177, dtype: int64"
      ]
     },
     "execution_count": 56,
     "metadata": {},
     "output_type": "execute_result"
    }
   ],
   "source": [
    "df1['country'].value_counts()\n"
   ]
  },
  {
   "cell_type": "code",
   "execution_count": 57,
   "metadata": {},
   "outputs": [],
   "source": [
    "df1['country'] = le.fit_transform(df1['country']) \n",
    "# There are more than 300 classes, so I wanted to use label encoder on this feature.\n"
   ]
  },
  {
   "cell_type": "markdown",
   "metadata": {},
   "source": [
    "## Decision Tree Model (reservation_status included)"
   ]
  },
  {
   "cell_type": "code",
   "execution_count": 58,
   "metadata": {},
   "outputs": [],
   "source": [
    "y = df1[\"is_canceled\"]\n",
    "X = df1.drop([\"is_canceled\"], axis=1)\n",
    "\n",
    "X_train, X_test, y_train, y_test = train_test_split(X, y, test_size = 0.30, random_state = 42)\n"
   ]
  },
  {
   "cell_type": "code",
   "execution_count": 59,
   "metadata": {},
   "outputs": [],
   "source": [
    "cart = DecisionTreeClassifier(max_depth = 12)\n"
   ]
  },
  {
   "cell_type": "code",
   "execution_count": 60,
   "metadata": {},
   "outputs": [],
   "source": [
    "cart_model = cart.fit(X_train, y_train)\n"
   ]
  },
  {
   "cell_type": "code",
   "execution_count": 61,
   "metadata": {},
   "outputs": [],
   "source": [
    "y_pred = cart_model.predict(X_test)\n"
   ]
  },
  {
   "cell_type": "code",
   "execution_count": 62,
   "metadata": {},
   "outputs": [
    {
     "name": "stdout",
     "output_type": "stream",
     "text": [
      "Decision Tree Model \n",
      "\n",
      "Accuracy Score: 1.0\n",
      "\n",
      "Confusion Matrix:\n",
      " [[22353     0]\n",
      " [    0 13318]]\n",
      "\n",
      "AUC Score: 1.0\n"
     ]
    }
   ],
   "source": [
    "print('Decision Tree Model \\n')\n",
    "\n",
    "print('Accuracy Score: {}\\n\\nConfusion Matrix:\\n {}\\n\\nAUC Score: {}'\n",
    "      .format(accuracy_score(y_test,y_pred), confusion_matrix(y_test,y_pred), roc_auc_score(y_test,y_pred)))"
   ]
  },
  {
   "cell_type": "code",
   "execution_count": 63,
   "metadata": {},
   "outputs": [
    {
     "data": {
      "text/plain": [
       "Text(0.5, 0, 'Feature Importances (%)')"
      ]
     },
     "execution_count": 63,
     "metadata": {},
     "output_type": "execute_result"
    },
    {
     "data": {
      "image/png": "[encoded data removed]",
      "text/plain": [
       "<Figure size 432x288 with 1 Axes>"
      ]
     },
     "metadata": {},
     "output_type": "display_data"
    }
   ],
   "source": [
    "pd.DataFrame(data = cart_model.feature_importances_*100,\n",
    "                   columns = [\"Importances\"],\n",
    "                   index = X_train.columns).sort_values(\"Importances\", ascending = False)[:10].plot(kind = \"barh\", color = \"r\")\n",
    "\n",
    "plt.xlabel(\"Feature Importances (%)\")"
   ]
  },
  {
   "cell_type": "markdown",
   "metadata": {},
   "source": [
    "### In the correlation part, we have seen the impact of reservation status. Reservation status dominates other features totally. By keeping reservation_status in data, it is possible to achieve 100% accuracy rate because that feature is direct way to predict cancellations, its like cheating. For the sake of analysis I will drop reservation_status and continue analysis without it.\n",
    "\n"
   ]
  },
  {
   "cell_type": "code",
   "execution_count": 64,
   "metadata": {},
   "outputs": [
    {
     "data": {
      "text/plain": [
       "Index(['hotel', 'is_canceled', 'lead_time', 'arrival_date_year',\n",
       "       'arrival_date_day_of_month', 'stays_in_week_nights', 'country',\n",
       "       'is_repeated_guest', 'previous_cancellations',\n",
       "       'previous_bookings_not_canceled', 'booking_changes',\n",
       "       'days_in_waiting_list', 'adr', 'required_car_parking_spaces',\n",
       "       'total_of_special_requests', 'is_family', 'total_customer',\n",
       "       'deposit_given', 'total_nights', 'meal_BB', 'meal_FB', 'meal_HB',\n",
       "       'meal_SC', 'meal_Undefined', 'market_segment_Aviation',\n",
       "       'market_segment_Complementary', 'market_segment_Corporate',\n",
       "       'market_segment_Direct', 'market_segment_Groups',\n",
       "       'market_segment_Offline TA/TO', 'market_segment_Online TA',\n",
       "       'market_segment_Undefined', 'distribution_channel_Corporate',\n",
       "       'distribution_channel_Direct', 'distribution_channel_GDS',\n",
       "       'distribution_channel_TA/TO', 'distribution_channel_Undefined',\n",
       "       'reserved_room_type_A', 'reserved_room_type_B', 'reserved_room_type_C',\n",
       "       'reserved_room_type_D', 'reserved_room_type_E', 'reserved_room_type_F',\n",
       "       'reserved_room_type_G', 'reserved_room_type_H', 'reserved_room_type_L',\n",
       "       'reserved_room_type_P', 'assigned_room_type_A', 'assigned_room_type_B',\n",
       "       'assigned_room_type_C', 'assigned_room_type_D', 'assigned_room_type_E',\n",
       "       'assigned_room_type_F', 'assigned_room_type_G', 'assigned_room_type_H',\n",
       "       'assigned_room_type_I', 'assigned_room_type_K', 'assigned_room_type_L',\n",
       "       'assigned_room_type_P', 'customer_type_Contract', 'customer_type_Group',\n",
       "       'customer_type_Transient', 'customer_type_Transient-Party',\n",
       "       'reservation_status_Canceled', 'reservation_status_Check-Out',\n",
       "       'reservation_status_No-Show'],\n",
       "      dtype='object')"
      ]
     },
     "execution_count": 64,
     "metadata": {},
     "output_type": "execute_result"
    }
   ],
   "source": [
    "\n",
    "df1.columns\n",
    "\n"
   ]
  },
  {
   "cell_type": "code",
   "execution_count": 65,
   "metadata": {},
   "outputs": [],
   "source": [
    "df2 = df1.drop(columns = ['reservation_status_Canceled', 'reservation_status_Check-Out',\n",
    "       'reservation_status_No-Show' ],axis = 1)\n"
   ]
  },
  {
   "cell_type": "code",
   "execution_count": 66,
   "metadata": {},
   "outputs": [
    {
     "data": {
      "text/plain": [
       "Index(['hotel', 'is_canceled', 'lead_time', 'arrival_date_year',\n",
       "       'arrival_date_day_of_month', 'stays_in_week_nights', 'country',\n",
       "       'is_repeated_guest', 'previous_cancellations',\n",
       "       'previous_bookings_not_canceled', 'booking_changes',\n",
       "       'days_in_waiting_list', 'adr', 'required_car_parking_spaces',\n",
       "       'total_of_special_requests', 'is_family', 'total_customer',\n",
       "       'deposit_given', 'total_nights', 'meal_BB', 'meal_FB', 'meal_HB',\n",
       "       'meal_SC', 'meal_Undefined', 'market_segment_Aviation',\n",
       "       'market_segment_Complementary', 'market_segment_Corporate',\n",
       "       'market_segment_Direct', 'market_segment_Groups',\n",
       "       'market_segment_Offline TA/TO', 'market_segment_Online TA',\n",
       "       'market_segment_Undefined', 'distribution_channel_Corporate',\n",
       "       'distribution_channel_Direct', 'distribution_channel_GDS',\n",
       "       'distribution_channel_TA/TO', 'distribution_channel_Undefined',\n",
       "       'reserved_room_type_A', 'reserved_room_type_B', 'reserved_room_type_C',\n",
       "       'reserved_room_type_D', 'reserved_room_type_E', 'reserved_room_type_F',\n",
       "       'reserved_room_type_G', 'reserved_room_type_H', 'reserved_room_type_L',\n",
       "       'reserved_room_type_P', 'assigned_room_type_A', 'assigned_room_type_B',\n",
       "       'assigned_room_type_C', 'assigned_room_type_D', 'assigned_room_type_E',\n",
       "       'assigned_room_type_F', 'assigned_room_type_G', 'assigned_room_type_H',\n",
       "       'assigned_room_type_I', 'assigned_room_type_K', 'assigned_room_type_L',\n",
       "       'assigned_room_type_P', 'customer_type_Contract', 'customer_type_Group',\n",
       "       'customer_type_Transient', 'customer_type_Transient-Party'],\n",
       "      dtype='object')"
      ]
     },
     "execution_count": 66,
     "metadata": {},
     "output_type": "execute_result"
    }
   ],
   "source": [
    "df2.columns\n"
   ]
  },
  {
   "cell_type": "code",
   "execution_count": 67,
   "metadata": {},
   "outputs": [],
   "source": [
    "y = df2[\"is_canceled\"]\n",
    "X = df2.drop([\"is_canceled\"], axis=1)\n",
    "\n",
    "X_train, X_test, y_train, y_test = train_test_split(X, y, test_size = 0.30, random_state = 42)\n"
   ]
  },
  {
   "cell_type": "code",
   "execution_count": 68,
   "metadata": {},
   "outputs": [],
   "source": [
    "# We can use the functions to apply the models and roc curves to save space.\n",
    "def model(algorithm, X_train, X_test, y_train, y_test):\n",
    "    alg = algorithm\n",
    "    alg_model = alg.fit(X_train, y_train)\n",
    "    global y_prob, y_pred\n",
    "    y_prob = alg.predict_proba(X_test)[:,1]\n",
    "    y_pred = alg_model.predict(X_test)\n",
    "\n",
    "    print('Accuracy Score: {}\\n\\nConfusion Matrix:\\n {}'\n",
    "      .format(accuracy_score(y_test,y_pred), confusion_matrix(y_test,y_pred)))\n",
    "    \n",
    "\n",
    "def ROC(y_test, y_prob):\n",
    "    \n",
    "    false_positive_rate, true_positive_rate, threshold = roc_curve(y_test, y_prob)\n",
    "    roc_auc = auc(false_positive_rate, true_positive_rate)\n",
    "    \n",
    "    plt.figure(figsize = (10,10))\n",
    "    plt.title('Receiver Operating Characteristic')\n",
    "    plt.plot(false_positive_rate, true_positive_rate, color = 'red', label = 'AUC = %0.2f' % roc_auc)\n",
    "    plt.legend(loc = 'lower right')\n",
    "    plt.plot([0, 1], [0, 1], linestyle = '--')\n",
    "    plt.axis('tight')\n",
    "    plt.ylabel('True Positive Rate')\n",
    "    plt.xlabel('False Positive Rate')\n"
   ]
  },
  {
   "cell_type": "markdown",
   "metadata": {},
   "source": [
    "# Model and ROC Curve Comparison"
   ]
  },
  {
   "cell_type": "markdown",
   "metadata": {},
   "source": [
    "### Logistic Regression Model"
   ]
  },
  {
   "cell_type": "code",
   "execution_count": 69,
   "metadata": {},
   "outputs": [
    {
     "name": "stdout",
     "output_type": "stream",
     "text": [
      "Model: Logistic Regression \n",
      "\n",
      "Accuracy Score: 0.8043508732583892\n",
      "\n",
      "Confusion Matrix:\n",
      " [[20495  1858]\n",
      " [ 5121  8197]]\n"
     ]
    }
   ],
   "source": [
    "print ('Model: Logistic Regression \\n')\n",
    "model(LogisticRegression(solver = \"liblinear\"), X_train, X_test, y_train, y_test)\n",
    "\n"
   ]
  },
  {
   "cell_type": "code",
   "execution_count": 70,
   "metadata": {},
   "outputs": [
    {
     "name": "stdout",
     "output_type": "stream",
     "text": [
      "Mean Score of CV:  0.7698779468192598\n"
     ]
    }
   ],
   "source": [
    "LogR = LogisticRegression(solver = \"liblinear\")\n",
    "cv_scores = cross_val_score(LogR, X, y, cv = 8, scoring = 'accuracy')\n",
    "print('Mean Score of CV: ', cv_scores.mean())\n"
   ]
  },
  {
   "cell_type": "code",
   "execution_count": 71,
   "metadata": {},
   "outputs": [
    {
     "data": {
      "image/png": "[encoded data removed]",
      "text/plain": [
       "<Figure size 720x720 with 1 Axes>"
      ]
     },
     "metadata": {},
     "output_type": "display_data"
    }
   ],
   "source": [
    "ROC(y_test, y_prob)\n",
    "\n"
   ]
  },
  {
   "cell_type": "markdown",
   "metadata": {},
   "source": [
    "### Gaussian Naive Bayes Model"
   ]
  },
  {
   "cell_type": "code",
   "execution_count": 72,
   "metadata": {},
   "outputs": [
    {
     "name": "stdout",
     "output_type": "stream",
     "text": [
      "Model : Gaussian Naive Bayes \n",
      " \n",
      "Accuracy Score: 0.586246530795324\n",
      "\n",
      "Confusion Matrix:\n",
      " [[ 9604 12749]\n",
      " [ 2010 11308]]\n"
     ]
    }
   ],
   "source": [
    "print('Model : Gaussian Naive Bayes \\n ')\n",
    "model(GaussianNB(),X_train, X_test, y_train, y_test)\n",
    "\n"
   ]
  },
  {
   "cell_type": "code",
   "execution_count": 73,
   "metadata": {},
   "outputs": [
    {
     "name": "stdout",
     "output_type": "stream",
     "text": [
      "Mean Score of CV:  0.5624352830436607\n"
     ]
    }
   ],
   "source": [
    "NB = GaussianNB()\n",
    "cv_scores = cross_val_score(NB, X, y, cv = 8, scoring = 'accuracy')\n",
    "print('Mean Score of CV: ', cv_scores.mean())\n",
    "\n"
   ]
  },
  {
   "cell_type": "code",
   "execution_count": 74,
   "metadata": {},
   "outputs": [
    {
     "data": {
      "image/png": "[encoded data removed]",
      "text/plain": [
       "<Figure size 720x720 with 1 Axes>"
      ]
     },
     "metadata": {},
     "output_type": "display_data"
    }
   ],
   "source": [
    "ROC(y_test, y_prob)\n",
    "\n"
   ]
  },
  {
   "cell_type": "markdown",
   "metadata": {},
   "source": [
    "# Support Vector Classification Model"
   ]
  },
  {
   "cell_type": "code",
   "execution_count": 75,
   "metadata": {},
   "outputs": [
    {
     "name": "stdout",
     "output_type": "stream",
     "text": [
      "Model: SVC \n",
      "\n",
      "Accuracy Score: 0.7942586414734658\n",
      "\n",
      " Confusion Matrix:\n",
      "\n"
     ]
    }
   ],
   "source": [
    "#I excluded probability in the function for SVC\n",
    "\n",
    "print('Model: SVC \\n')\n",
    "def model1(algorithm,X_train,X_test,y_train,y_test):\n",
    "    alg = algorithm\n",
    "    alg_model = alg.fit(X_train,y_train)\n",
    "    global y_pred\n",
    "    y_pred = alg_model.predict(X_test)\n",
    "    \n",
    "    \n",
    "    print('Accuracy Score: {}\\n\\n Confusion Matrix:\\n'.format(accuracy_score(y_test,y_pred),\n",
    "                                                              confusion_matrix(y_test,y_pred)))\n",
    "    \n",
    "model1(SVC(kernel ='linear'),X_train,X_test,y_train,y_test)\n",
    "\n"
   ]
  },
  {
   "cell_type": "markdown",
   "metadata": {},
   "source": [
    "## Decision Tree Model (reservation_status excluded)"
   ]
  },
  {
   "cell_type": "code",
   "execution_count": 76,
   "metadata": {},
   "outputs": [
    {
     "name": "stdout",
     "output_type": "stream",
     "text": [
      "Model: Decision Tree\n",
      "\n",
      "Accuracy Score: 0.8462056011886406\n",
      "\n",
      "Confusion Matrix:\n",
      " [[20369  1984]\n",
      " [ 3502  9816]]\n"
     ]
    }
   ],
   "source": [
    "print('Model: Decision Tree\\n')\n",
    "model(DecisionTreeClassifier(max_depth = 12), X_train, X_test, y_train, y_test)\n",
    "\n"
   ]
  },
  {
   "cell_type": "code",
   "execution_count": 77,
   "metadata": {},
   "outputs": [
    {
     "name": "stdout",
     "output_type": "stream",
     "text": [
      "Mean Score of CV:  0.6728731690426323\n"
     ]
    }
   ],
   "source": [
    "DTC = DecisionTreeClassifier(max_depth = 12)\n",
    "cv_scores = cross_val_score(DTC, X, y, cv = 8, scoring = 'accuracy')\n",
    "print('Mean Score of CV: ', cv_scores.mean())\n"
   ]
  },
  {
   "cell_type": "code",
   "execution_count": 78,
   "metadata": {},
   "outputs": [
    {
     "data": {
      "image/png": "[encoded data removed]",
      "text/plain": [
       "<Figure size 720x720 with 1 Axes>"
      ]
     },
     "metadata": {},
     "output_type": "display_data"
    }
   ],
   "source": [
    "ROC(y_test, y_prob)\n",
    "\n"
   ]
  },
  {
   "cell_type": "markdown",
   "metadata": {},
   "source": [
    "# Random Forest"
   ]
  },
  {
   "cell_type": "code",
   "execution_count": 79,
   "metadata": {},
   "outputs": [
    {
     "name": "stdout",
     "output_type": "stream",
     "text": [
      "Model: Random Forest\n",
      "\n",
      "Accuracy Score: 0.8727537775784251\n",
      "\n",
      "Confusion Matrix:\n",
      " [[20958  1395]\n",
      " [ 3144 10174]]\n"
     ]
    }
   ],
   "source": [
    "print('Model: Random Forest\\n')\n",
    "model(RandomForestClassifier(), X_train, X_test, y_train, y_test)"
   ]
  },
  {
   "cell_type": "code",
   "execution_count": 80,
   "metadata": {},
   "outputs": [
    {
     "name": "stdout",
     "output_type": "stream",
     "text": [
      "Mean Score of CV:  0.6751013846573184\n"
     ]
    }
   ],
   "source": [
    "RFC = RandomForestClassifier()\n",
    "cv_scores = cross_val_score(RFC, X, y, cv = 8, scoring = 'accuracy')\n",
    "print('Mean Score of CV: ', cv_scores.mean())"
   ]
  },
  {
   "cell_type": "code",
   "execution_count": 81,
   "metadata": {},
   "outputs": [
    {
     "data": {
      "image/png": "[encoded data removed]",
      "text/plain": [
       "<Figure size 720x720 with 1 Axes>"
      ]
     },
     "metadata": {},
     "output_type": "display_data"
    }
   ],
   "source": [
    "ROC(y_test, y_prob)"
   ]
  },
  {
   "cell_type": "markdown",
   "metadata": {},
   "source": [
    "### Random Forest Model Tuning"
   ]
  },
  {
   "cell_type": "code",
   "execution_count": 82,
   "metadata": {},
   "outputs": [],
   "source": [
    "rf_parameters = {\"max_depth\": [10,13],\n",
    "                 \"n_estimators\": [10,100,500],\n",
    "                 \"min_samples_split\": [2,5]}\n"
   ]
  },
  {
   "cell_type": "code",
   "execution_count": 83,
   "metadata": {},
   "outputs": [],
   "source": [
    "rf_model = RandomForestClassifier()"
   ]
  },
  {
   "cell_type": "code",
   "execution_count": 84,
   "metadata": {},
   "outputs": [
    {
     "name": "stdout",
     "output_type": "stream",
     "text": [
      "Fitting 10 folds for each of 12 candidates, totalling 120 fits\n"
     ]
    },
    {
     "name": "stderr",
     "output_type": "stream",
     "text": [
      "[Parallel(n_jobs=-1)]: Using backend LokyBackend with 8 concurrent workers.\n",
      "[Parallel(n_jobs=-1)]: Done  25 tasks      | elapsed:   56.2s\n",
      "[Parallel(n_jobs=-1)]: Done 120 out of 120 | elapsed:  5.2min finished\n"
     ]
    },
    {
     "data": {
      "text/plain": [
       "GridSearchCV(cv=10, error_score='raise-deprecating',\n",
       "             estimator=RandomForestClassifier(bootstrap=True, class_weight=None,\n",
       "                                              criterion='gini', max_depth=None,\n",
       "                                              max_features='auto',\n",
       "                                              max_leaf_nodes=None,\n",
       "                                              min_impurity_decrease=0.0,\n",
       "                                              min_impurity_split=None,\n",
       "                                              min_samples_leaf=1,\n",
       "                                              min_samples_split=2,\n",
       "                                              min_weight_fraction_leaf=0.0,\n",
       "                                              n_estimators='warn', n_jobs=None,\n",
       "                                              oob_score=False,\n",
       "                                              random_state=None, verbose=0,\n",
       "                                              warm_start=False),\n",
       "             iid='warn', n_jobs=-1,\n",
       "             param_grid={'max_depth': [10, 13], 'min_samples_split': [2, 5],\n",
       "                         'n_estimators': [10, 100, 500]},\n",
       "             pre_dispatch='2*n_jobs', refit=True, return_train_score=False,\n",
       "             scoring=None, verbose=2)"
      ]
     },
     "execution_count": 84,
     "metadata": {},
     "output_type": "execute_result"
    }
   ],
   "source": [
    "rf_cv_model = GridSearchCV(rf_model,\n",
    "                           rf_parameters,\n",
    "                           cv = 10,\n",
    "                           n_jobs = -1,\n",
    "                           verbose = 2)\n",
    "\n",
    "rf_cv_model.fit(X_train, y_train)"
   ]
  },
  {
   "cell_type": "code",
   "execution_count": 85,
   "metadata": {},
   "outputs": [
    {
     "name": "stdout",
     "output_type": "stream",
     "text": [
      "Best parameters: {'max_depth': 13, 'min_samples_split': 2, 'n_estimators': 500}\n"
     ]
    }
   ],
   "source": [
    "print('Best parameters: ' + str(rf_cv_model.best_params_))"
   ]
  },
  {
   "cell_type": "code",
   "execution_count": 86,
   "metadata": {},
   "outputs": [
    {
     "name": "stdout",
     "output_type": "stream",
     "text": [
      "Model: Random Forest Tuned\n",
      "\n",
      "Accuracy Score: 0.851475988898545\n",
      "\n",
      "Confusion Matrix:\n",
      " [[21146  1207]\n",
      " [ 4091  9227]]\n"
     ]
    }
   ],
   "source": [
    "rf_tuned = RandomForestClassifier(max_depth = 13,\n",
    "                                  min_samples_split = 2,\n",
    "                                  n_estimators = 500)\n",
    "\n",
    "print('Model: Random Forest Tuned\\n')\n",
    "model(rf_tuned, X_train, X_test, y_train, y_test)"
   ]
  },
  {
   "cell_type": "code",
   "execution_count": 87,
   "metadata": {},
   "outputs": [
    {
     "name": "stdout",
     "output_type": "stream",
     "text": [
      "Model: Random Forest Tuned\n",
      "\n",
      "Accuracy Score: 0.8515600908300861\n",
      "\n",
      "Confusion Matrix:\n",
      " [[21141  1212]\n",
      " [ 4083  9235]]\n"
     ]
    }
   ],
   "source": [
    "rf_tuned = RandomForestClassifier(max_depth = 13,\n",
    "                                  min_samples_split = 2,\n",
    "                                  n_estimators = 500)\n",
    "\n",
    "print('Model: Random Forest Tuned\\n')\n",
    "model(rf_tuned, X_train, X_test, y_train, y_test)"
   ]
  },
  {
   "cell_type": "markdown",
   "metadata": {},
   "source": [
    "Tuned model has worse accuracy score than default one. In the default model there is no limit for max depth. Increasing max depth gives us better accuracy scores but may decrease generalization."
   ]
  },
  {
   "cell_type": "markdown",
   "metadata": {},
   "source": [
    "### XGBoost Model"
   ]
  },
  {
   "cell_type": "code",
   "execution_count": 88,
   "metadata": {},
   "outputs": [
    {
     "name": "stdout",
     "output_type": "stream",
     "text": [
      "Model: XGBoost\n",
      "\n",
      "Accuracy Score: 0.84043060188949\n",
      "\n",
      "Confusion Matrix:\n",
      " [[20538  1815]\n",
      " [ 3877  9441]]\n"
     ]
    }
   ],
   "source": [
    "print('Model: XGBoost\\n')\n",
    "model(XGBClassifier(), X_train, X_test, y_train, y_test)"
   ]
  },
  {
   "cell_type": "code",
   "execution_count": 89,
   "metadata": {},
   "outputs": [
    {
     "name": "stdout",
     "output_type": "stream",
     "text": [
      "Mean Score of CV:  0.7326369896219025\n"
     ]
    }
   ],
   "source": [
    "XGB = XGBClassifier()\n",
    "cv_scores = cross_val_score(XGB, X, y, cv = 8, scoring = 'accuracy')\n",
    "print('Mean Score of CV: ', cv_scores.mean())"
   ]
  },
  {
   "cell_type": "code",
   "execution_count": 90,
   "metadata": {},
   "outputs": [
    {
     "data": {
      "image/png": "[encoded data removed]",
      "text/plain": [
       "<Figure size 720x720 with 1 Axes>"
      ]
     },
     "metadata": {},
     "output_type": "display_data"
    }
   ],
   "source": [
    "ROC(y_test, y_prob)"
   ]
  },
  {
   "cell_type": "markdown",
   "metadata": {},
   "source": [
    "## Neural Network Model Tuning"
   ]
  },
  {
   "cell_type": "code",
   "execution_count": 91,
   "metadata": {},
   "outputs": [],
   "source": [
    "scaler = StandardScaler()\n",
    "scaler.fit(X_train)\n",
    "X_train_scaled = scaler.transform(X_train)\n",
    "X_test_scaled = scaler.transform(X_test)"
   ]
  },
  {
   "cell_type": "code",
   "execution_count": 92,
   "metadata": {},
   "outputs": [
    {
     "name": "stdout",
     "output_type": "stream",
     "text": [
      "Model: Neural Network\n",
      "\n",
      "Accuracy Score: 0.8500462560623475\n",
      "\n",
      "Confusion Matrix:\n",
      " [[20469  1884]\n",
      " [ 3465  9853]]\n"
     ]
    }
   ],
   "source": [
    "print('Model: Neural Network\\n')\n",
    "model(MLPClassifier(), X_train_scaled, X_test_scaled, y_train, y_test)"
   ]
  },
  {
   "cell_type": "code",
   "execution_count": 93,
   "metadata": {},
   "outputs": [
    {
     "data": {
      "image/png": "[encoded data removed]",
      "text/plain": [
       "<Figure size 720x720 with 1 Axes>"
      ]
     },
     "metadata": {},
     "output_type": "display_data"
    }
   ],
   "source": [
    "ROC(y_test, y_prob)"
   ]
  },
  {
   "cell_type": "code",
   "execution_count": 94,
   "metadata": {},
   "outputs": [],
   "source": [
    "mlpc_parameters = {\"alpha\": [1, 0.1, 0.01, 0.001],\n",
    "                   \"hidden_layer_sizes\": [(50,50,50),\n",
    "                                          (100,100)],\n",
    "                   \"solver\": [\"adam\", \"sgd\"],\n",
    "                   \"activation\": [\"logistic\", \"relu\"]}"
   ]
  },
  {
   "cell_type": "code",
   "execution_count": 95,
   "metadata": {},
   "outputs": [
    {
     "ename": "IndentationError",
     "evalue": "unexpected indent (<ipython-input-95-5545540dacca>, line 3)",
     "output_type": "error",
     "traceback": [
      "\u001b[0;36m  File \u001b[0;32m\"<ipython-input-95-5545540dacca>\"\u001b[0;36m, line \u001b[0;32m3\u001b[0m\n\u001b[0;31m    cv = 10,\u001b[0m\n\u001b[0m    ^\u001b[0m\n\u001b[0;31mIndentationError\u001b[0m\u001b[0;31m:\u001b[0m unexpected indent\n"
     ]
    }
   ],
   "source": [
    "#mlpc = MLPClassifier()\n",
    "#mlpc_cv_model = GridSearchCV(mlpc, mlpc_parameters,\n",
    "              #               cv = 10,\n",
    "                  #           n_jobs = -1,\n",
    "                     #        verbose = 2)\n",
    "#\n",
    "#mlpc_cv_model.fit(X_train_scaled, y_train)"
   ]
  },
  {
   "cell_type": "code",
   "execution_count": null,
   "metadata": {},
   "outputs": [],
   "source": [
    "#print('Best parameters: ' + str(mlpc_cv_model.best_params_))"
   ]
  },
  {
   "cell_type": "code",
   "execution_count": null,
   "metadata": {},
   "outputs": [],
   "source": [
    "#mlpc_tuned = MLPClassifier(activation = 'relu',\n",
    "                           alpha = 0.1,\n",
    "                           hidden_layer_sizes = (100,100),\n",
    "                           solver = 'adam')"
   ]
  },
  {
   "cell_type": "code",
   "execution_count": null,
   "metadata": {},
   "outputs": [],
   "source": [
    "#print('Model: Neural Network Tuned\\n')\n",
    "#model(mlpc_tuned, X_train_scaled, X_test_scaled, y_train, y_test)"
   ]
  },
  {
   "cell_type": "code",
   "execution_count": null,
   "metadata": {},
   "outputs": [],
   "source": [
    "#ROC(y_test, y_prob)"
   ]
  },
  {
   "cell_type": "markdown",
   "metadata": {},
   "source": [
    "# Conclusion"
   ]
  },
  {
   "cell_type": "markdown",
   "metadata": {},
   "source": [
    "### Feature Importances"
   ]
  },
  {
   "cell_type": "code",
   "execution_count": 96,
   "metadata": {},
   "outputs": [
    {
     "data": {
      "text/plain": [
       "Text(0.5, 0, 'Feature Importances (%)')"
      ]
     },
     "execution_count": 96,
     "metadata": {},
     "output_type": "execute_result"
    },
    {
     "data": {
      "image/png": "[encoded data removed]",
      "text/plain": [
       "<Figure size 432x288 with 1 Axes>"
      ]
     },
     "metadata": {},
     "output_type": "display_data"
    }
   ],
   "source": [
    "randomf = RandomForestClassifier()\n",
    "rf_model1 = randomf.fit(X_train, y_train)\n",
    "\n",
    "pd.DataFrame(data = rf_model1.feature_importances_*100,\n",
    "                   columns = [\"Importances\"],\n",
    "                   index = X_train.columns).sort_values(\"Importances\", ascending = False)[:15].plot(kind = \"barh\", \n",
    "                                                                                                    color = \"r\")\n",
    "\n",
    "plt.xlabel(\"Feature Importances (%)\")\n",
    "\n"
   ]
  },
  {
   "cell_type": "markdown",
   "metadata": {},
   "source": [
    "Summary Table of the Models\n",
    "\n"
   ]
  },
  {
   "cell_type": "code",
   "execution_count": 97,
   "metadata": {},
   "outputs": [
    {
     "data": {
      "text/html": [
       "<div>\n",
       "<style scoped>\n",
       "    .dataframe tbody tr th:only-of-type {\n",
       "        vertical-align: middle;\n",
       "    }\n",
       "\n",
       "    .dataframe tbody tr th {\n",
       "        vertical-align: top;\n",
       "    }\n",
       "\n",
       "    .dataframe thead th {\n",
       "        text-align: right;\n",
       "    }\n",
       "</style>\n",
       "<table border=\"1\" class=\"dataframe\">\n",
       "  <thead>\n",
       "    <tr style=\"text-align: right;\">\n",
       "      <th></th>\n",
       "      <th>Accuracy Scores</th>\n",
       "      <th>ROC | Auc</th>\n",
       "    </tr>\n",
       "    <tr>\n",
       "      <th>Model</th>\n",
       "      <th></th>\n",
       "      <th></th>\n",
       "    </tr>\n",
       "  </thead>\n",
       "  <tbody>\n",
       "    <tr>\n",
       "      <td>Decision Tree (reservation status included)</td>\n",
       "      <td>1.000</td>\n",
       "      <td>1.00</td>\n",
       "    </tr>\n",
       "    <tr>\n",
       "      <td>Random Forest</td>\n",
       "      <td>0.883</td>\n",
       "      <td>0.95</td>\n",
       "    </tr>\n",
       "    <tr>\n",
       "      <td>XGBoost</td>\n",
       "      <td>0.869</td>\n",
       "      <td>0.94</td>\n",
       "    </tr>\n",
       "    <tr>\n",
       "      <td>Neural Network Tuned</td>\n",
       "      <td>0.859</td>\n",
       "      <td>0.94</td>\n",
       "    </tr>\n",
       "    <tr>\n",
       "      <td>Random Forest Tuned</td>\n",
       "      <td>0.851</td>\n",
       "      <td>0.00</td>\n",
       "    </tr>\n",
       "    <tr>\n",
       "      <td>Neural Network</td>\n",
       "      <td>0.848</td>\n",
       "      <td>0.93</td>\n",
       "    </tr>\n",
       "    <tr>\n",
       "      <td>Decision Tree</td>\n",
       "      <td>0.846</td>\n",
       "      <td>0.92</td>\n",
       "    </tr>\n",
       "    <tr>\n",
       "      <td>Logistic Regression</td>\n",
       "      <td>0.804</td>\n",
       "      <td>0.88</td>\n",
       "    </tr>\n",
       "    <tr>\n",
       "      <td>Support Vector</td>\n",
       "      <td>0.794</td>\n",
       "      <td>0.00</td>\n",
       "    </tr>\n",
       "    <tr>\n",
       "      <td>Naive Bayes</td>\n",
       "      <td>0.582</td>\n",
       "      <td>0.78</td>\n",
       "    </tr>\n",
       "  </tbody>\n",
       "</table>\n",
       "</div>"
      ],
      "text/plain": [
       "                                             Accuracy Scores  ROC | Auc\n",
       "Model                                                                  \n",
       "Decision Tree (reservation status included)            1.000       1.00\n",
       "Random Forest                                          0.883       0.95\n",
       "XGBoost                                                0.869       0.94\n",
       "Neural Network Tuned                                   0.859       0.94\n",
       "Random Forest Tuned                                    0.851       0.00\n",
       "Neural Network                                         0.848       0.93\n",
       "Decision Tree                                          0.846       0.92\n",
       "Logistic Regression                                    0.804       0.88\n",
       "Support Vector                                         0.794       0.00\n",
       "Naive Bayes                                            0.582       0.78"
      ]
     },
     "execution_count": 97,
     "metadata": {},
     "output_type": "execute_result"
    }
   ],
   "source": [
    "table = pd.DataFrame({\"Model\": [\"Decision Tree (reservation status included)\", \"Logistic Regression\",\n",
    "                                \"Naive Bayes\", \"Support Vector\", \"Decision Tree\", \"Random Forest\",\n",
    "                                \"Random Forest Tuned\", \"XGBoost\", \"Neural Network\", \"Neural Network Tuned\"],\n",
    "                     \"Accuracy Scores\": [\"1\", \"0.804\", \"0.582\", \"0.794\", \"0.846\",\n",
    "                                         \"0.883\", \"0.851\", \"0.869\", \"0.848\", \"0.859\"],\n",
    "                     \"ROC | Auc\": [\"1\", \"0.88\", \"0.78\", \"0\",\n",
    "                                   \"0.92\", \"0.95\", \"0\", \"0.94\",\n",
    "                                   \"0.93\", \"0.94\"]})\n",
    "\n",
    "\n",
    "table[\"Model\"] = table[\"Model\"].astype(\"category\")\n",
    "table[\"Accuracy Scores\"] = table[\"Accuracy Scores\"].astype(\"float32\")\n",
    "table[\"ROC | Auc\"] = table[\"ROC | Auc\"].astype(\"float32\")\n",
    "\n",
    "pd.pivot_table(table, index = [\"Model\"]).sort_values(by = 'Accuracy Scores', ascending=False)"
   ]
  },
  {
   "cell_type": "code",
   "execution_count": null,
   "metadata": {},
   "outputs": [],
   "source": []
  }
 ],
 "metadata": {
  "kernelspec": {
   "display_name": "Python 3",
   "language": "python",
   "name": "python3"
  },
  "language_info": {
   "codemirror_mode": {
    "name": "ipython",
    "version": 3
   },
   "file_extension": ".py",
   "mimetype": "text/x-python",
   "name": "python",
   "nbconvert_exporter": "python",
   "pygments_lexer": "ipython3",
   "version": "3.7.4"
  }
 },
 "nbformat": 4,
 "nbformat_minor": 2
}
